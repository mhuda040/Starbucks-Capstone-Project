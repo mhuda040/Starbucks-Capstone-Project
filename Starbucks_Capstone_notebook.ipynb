{
 "cells": [
  {
   "cell_type": "markdown",
   "metadata": {},
   "source": [
    "# Starbucks Capstone Challenge\n",
    "\n",
    "### Introduction\n",
    "\n",
    "This data set contains simulated data that mimics customer behavior on the Starbucks rewards mobile app. Once every few days, Starbucks sends out an offer to users of the mobile app. An offer can be merely an advertisement for a drink or an actual offer such as a discount or BOGO (buy one get one free). Some users might not receive any offer during certain weeks. \n",
    "\n",
    "Not all users receive the same offer, and that is the challenge to solve with this data set.\n",
    "\n",
    "Your task is to combine transaction, demographic and offer data to determine which demographic groups respond best to which offer type. This data set is a simplified version of the real Starbucks app because the underlying simulator only has one product whereas Starbucks actually sells dozens of products.\n",
    "\n",
    "Every offer has a validity period before the offer expires. As an example, a BOGO offer might be valid for only 5 days. You'll see in the data set that informational offers have a validity period even though these ads are merely providing information about a product; for example, if an informational offer has 7 days of validity, you can assume the customer is feeling the influence of the offer for 7 days after receiving the advertisement.\n",
    "\n",
    "You'll be given transactional data showing user purchases made on the app including the timestamp of purchase and the amount of money spent on a purchase. This transactional data also has a record for each offer that a user receives as well as a record for when a user actually views the offer. There are also records for when a user completes an offer. \n",
    "\n",
    "Keep in mind as well that someone using the app might make a purchase through the app without having received an offer or seen an offer.\n",
    "\n",
    "### Example\n",
    "\n",
    "To give an example, a user could receive a discount offer buy 10 dollars get 2 off on Monday. The offer is valid for 10 days from receipt. If the customer accumulates at least 10 dollars in purchases during the validity period, the customer completes the offer.\n",
    "\n",
    "However, there are a few things to watch out for in this data set. Customers do not opt into the offers that they receive; in other words, a user can receive an offer, never actually view the offer, and still complete the offer. For example, a user might receive the \"buy 10 dollars get 2 dollars off offer\", but the user never opens the offer during the 10 day validity period. The customer spends 15 dollars during those ten days. There will be an offer completion record in the data set; however, the customer was not influenced by the offer because the customer never viewed the offer.\n",
    "\n",
    "### Cleaning\n",
    "\n",
    "This makes data cleaning especially important and tricky.\n",
    "\n",
    "You'll also want to take into account that some demographic groups will make purchases even if they don't receive an offer. From a business perspective, if a customer is going to make a 10 dollar purchase without an offer anyway, you wouldn't want to send a buy 10 dollars get 2 dollars off offer. You'll want to try to assess what a certain demographic group will buy when not receiving any offers.\n",
    "\n",
    "### Final Advice\n",
    "\n",
    "Because this is a capstone project, you are free to analyze the data any way you see fit. For example, you could build a machine learning model that predicts how much someone will spend based on demographics and offer type. Or you could build a model that predicts whether or not someone will respond to an offer. Or, you don't need to build a machine learning model at all. You could develop a set of heuristics that determine what offer you should send to each customer (i.e., 75 percent of women customers who were 35 years old responded to offer A vs 40 percent from the same demographic to offer B, so send offer A)."
   ]
  },
  {
   "cell_type": "markdown",
   "metadata": {},
   "source": [
    "# Data Sets\n",
    "\n",
    "The data is contained in three files:\n",
    "\n",
    "* portfolio.json - containing offer ids and meta data about each offer (duration, type, etc.)\n",
    "* profile.json - demographic data for each customer\n",
    "* transcript.json - records for transactions, offers received, offers viewed, and offers completed\n",
    "\n",
    "Here is the schema and explanation of each variable in the files:\n",
    "\n",
    "**portfolio.json**\n",
    "* id (string) - offer id\n",
    "* offer_type (string) - type of offer ie BOGO, discount, informational\n",
    "* difficulty (int) - minimum required spend to complete an offer\n",
    "* reward (int) - reward given for completing an offer\n",
    "* duration (int) - time for offer to be open, in days\n",
    "* channels (list of strings)\n",
    "\n",
    "**profile.json**\n",
    "* age (int) - age of the customer \n",
    "* became_member_on (int) - date when customer created an app account\n",
    "* gender (str) - gender of the customer (note some entries contain 'O' for other rather than M or F)\n",
    "* id (str) - customer id\n",
    "* income (float) - customer's income\n",
    "\n",
    "**transcript.json**\n",
    "* event (str) - record description (ie transaction, offer received, offer viewed, etc.)\n",
    "* person (str) - customer id\n",
    "* time (int) - time in hours since start of test. The data begins at time t=0\n",
    "* value - (dict of strings) - either an offer id or transaction amount depending on the record\n",
    "\n",
    "**Note:** If you are using the workspace, you will need to go to the terminal and run the command `conda update pandas` before reading in the files. This is because the version of pandas in the workspace cannot read in the transcript.json file correctly, but the newest version of pandas can. You can access the termnal from the orange icon in the top left of this notebook.  \n",
    "\n",
    "You can see how to access the terminal and how the install works using the two images below.  First you need to access the terminal:\n",
    "\n",
    "<img src=\"pic1.png\"/>\n",
    "\n",
    "Then you will want to run the above command:\n",
    "\n",
    "<img src=\"pic2.png\"/>\n",
    "\n",
    "Finally, when you enter back into the notebook (use the jupyter icon again), you should be able to run the below cell without any errors."
   ]
  },
  {
   "cell_type": "code",
   "execution_count": 128,
   "metadata": {},
   "outputs": [],
   "source": [
    "from datetime import datetime\n",
    "from time import time\n",
    "import matplotlib.pyplot as plt\n",
    "import seaborn as sns\n",
    "import warnings\n",
    "warnings.filterwarnings(\"ignore\")\n",
    "from sklearn.neighbors import KNeighborsClassifier\n",
    "from sklearn.naive_bayes import GaussianNB\n",
    "from sklearn.svm import SVC\n",
    "from sklearn.ensemble import AdaBoostClassifier\n",
    "from sklearn.ensemble import RandomForestClassifier\n",
    "from sklearn.tree import DecisionTreeClassifier\n",
    "from sklearn.metrics import accuracy_score,f1_score\n",
    "from sklearn.model_selection import train_test_split,GridSearchCV"
   ]
  },
  {
   "cell_type": "code",
   "execution_count": 129,
   "metadata": {},
   "outputs": [],
   "source": [
    "import pandas as pd\n",
    "import numpy as np\n",
    "import math\n",
    "import json\n",
    "% matplotlib inline\n",
    "\n",
    "# read in the json files\n",
    "portfolio = pd.read_json('data/portfolio.json', orient='records', lines=True)\n",
    "profile = pd.read_json('data/profile.json', orient='records', lines=True)\n",
    "transcript = pd.read_json('data/transcript.json', orient='records', lines=True)"
   ]
  },
  {
   "cell_type": "markdown",
   "metadata": {},
   "source": [
    "<H2>Dataset Introduction</H2>"
   ]
  },
  {
   "cell_type": "markdown",
   "metadata": {},
   "source": [
    "For this first part, we will familiarize ourselves with the three datasets for the Starbucks customer data and profiles, in an effort to understand what we are working with."
   ]
  },
  {
   "cell_type": "code",
   "execution_count": 130,
   "metadata": {},
   "outputs": [
    {
     "data": {
      "text/plain": [
       "(10, 6)"
      ]
     },
     "execution_count": 130,
     "metadata": {},
     "output_type": "execute_result"
    }
   ],
   "source": [
    "# obtain the dimensions of the Starbucks customer portfolio dataset\n",
    "portfolio.shape"
   ]
  },
  {
   "cell_type": "code",
   "execution_count": 131,
   "metadata": {},
   "outputs": [
    {
     "data": {
      "text/html": [
       "<div>\n",
       "<style scoped>\n",
       "    .dataframe tbody tr th:only-of-type {\n",
       "        vertical-align: middle;\n",
       "    }\n",
       "\n",
       "    .dataframe tbody tr th {\n",
       "        vertical-align: top;\n",
       "    }\n",
       "\n",
       "    .dataframe thead th {\n",
       "        text-align: right;\n",
       "    }\n",
       "</style>\n",
       "<table border=\"1\" class=\"dataframe\">\n",
       "  <thead>\n",
       "    <tr style=\"text-align: right;\">\n",
       "      <th></th>\n",
       "      <th>channels</th>\n",
       "      <th>difficulty</th>\n",
       "      <th>duration</th>\n",
       "      <th>id</th>\n",
       "      <th>offer_type</th>\n",
       "      <th>reward</th>\n",
       "    </tr>\n",
       "  </thead>\n",
       "  <tbody>\n",
       "    <tr>\n",
       "      <th>0</th>\n",
       "      <td>[email, mobile, social]</td>\n",
       "      <td>10</td>\n",
       "      <td>7</td>\n",
       "      <td>ae264e3637204a6fb9bb56bc8210ddfd</td>\n",
       "      <td>bogo</td>\n",
       "      <td>10</td>\n",
       "    </tr>\n",
       "    <tr>\n",
       "      <th>1</th>\n",
       "      <td>[web, email, mobile, social]</td>\n",
       "      <td>10</td>\n",
       "      <td>5</td>\n",
       "      <td>4d5c57ea9a6940dd891ad53e9dbe8da0</td>\n",
       "      <td>bogo</td>\n",
       "      <td>10</td>\n",
       "    </tr>\n",
       "    <tr>\n",
       "      <th>2</th>\n",
       "      <td>[web, email, mobile]</td>\n",
       "      <td>0</td>\n",
       "      <td>4</td>\n",
       "      <td>3f207df678b143eea3cee63160fa8bed</td>\n",
       "      <td>informational</td>\n",
       "      <td>0</td>\n",
       "    </tr>\n",
       "    <tr>\n",
       "      <th>3</th>\n",
       "      <td>[web, email, mobile]</td>\n",
       "      <td>5</td>\n",
       "      <td>7</td>\n",
       "      <td>9b98b8c7a33c4b65b9aebfe6a799e6d9</td>\n",
       "      <td>bogo</td>\n",
       "      <td>5</td>\n",
       "    </tr>\n",
       "    <tr>\n",
       "      <th>4</th>\n",
       "      <td>[web, email]</td>\n",
       "      <td>20</td>\n",
       "      <td>10</td>\n",
       "      <td>0b1e1539f2cc45b7b9fa7c272da2e1d7</td>\n",
       "      <td>discount</td>\n",
       "      <td>5</td>\n",
       "    </tr>\n",
       "    <tr>\n",
       "      <th>5</th>\n",
       "      <td>[web, email, mobile, social]</td>\n",
       "      <td>7</td>\n",
       "      <td>7</td>\n",
       "      <td>2298d6c36e964ae4a3e7e9706d1fb8c2</td>\n",
       "      <td>discount</td>\n",
       "      <td>3</td>\n",
       "    </tr>\n",
       "    <tr>\n",
       "      <th>6</th>\n",
       "      <td>[web, email, mobile, social]</td>\n",
       "      <td>10</td>\n",
       "      <td>10</td>\n",
       "      <td>fafdcd668e3743c1bb461111dcafc2a4</td>\n",
       "      <td>discount</td>\n",
       "      <td>2</td>\n",
       "    </tr>\n",
       "    <tr>\n",
       "      <th>7</th>\n",
       "      <td>[email, mobile, social]</td>\n",
       "      <td>0</td>\n",
       "      <td>3</td>\n",
       "      <td>5a8bc65990b245e5a138643cd4eb9837</td>\n",
       "      <td>informational</td>\n",
       "      <td>0</td>\n",
       "    </tr>\n",
       "    <tr>\n",
       "      <th>8</th>\n",
       "      <td>[web, email, mobile, social]</td>\n",
       "      <td>5</td>\n",
       "      <td>5</td>\n",
       "      <td>f19421c1d4aa40978ebb69ca19b0e20d</td>\n",
       "      <td>bogo</td>\n",
       "      <td>5</td>\n",
       "    </tr>\n",
       "    <tr>\n",
       "      <th>9</th>\n",
       "      <td>[web, email, mobile]</td>\n",
       "      <td>10</td>\n",
       "      <td>7</td>\n",
       "      <td>2906b810c7d4411798c6938adc9daaa5</td>\n",
       "      <td>discount</td>\n",
       "      <td>2</td>\n",
       "    </tr>\n",
       "  </tbody>\n",
       "</table>\n",
       "</div>"
      ],
      "text/plain": [
       "                       channels  difficulty  duration  \\\n",
       "0       [email, mobile, social]          10         7   \n",
       "1  [web, email, mobile, social]          10         5   \n",
       "2          [web, email, mobile]           0         4   \n",
       "3          [web, email, mobile]           5         7   \n",
       "4                  [web, email]          20        10   \n",
       "5  [web, email, mobile, social]           7         7   \n",
       "6  [web, email, mobile, social]          10        10   \n",
       "7       [email, mobile, social]           0         3   \n",
       "8  [web, email, mobile, social]           5         5   \n",
       "9          [web, email, mobile]          10         7   \n",
       "\n",
       "                                 id     offer_type  reward  \n",
       "0  ae264e3637204a6fb9bb56bc8210ddfd           bogo      10  \n",
       "1  4d5c57ea9a6940dd891ad53e9dbe8da0           bogo      10  \n",
       "2  3f207df678b143eea3cee63160fa8bed  informational       0  \n",
       "3  9b98b8c7a33c4b65b9aebfe6a799e6d9           bogo       5  \n",
       "4  0b1e1539f2cc45b7b9fa7c272da2e1d7       discount       5  \n",
       "5  2298d6c36e964ae4a3e7e9706d1fb8c2       discount       3  \n",
       "6  fafdcd668e3743c1bb461111dcafc2a4       discount       2  \n",
       "7  5a8bc65990b245e5a138643cd4eb9837  informational       0  \n",
       "8  f19421c1d4aa40978ebb69ca19b0e20d           bogo       5  \n",
       "9  2906b810c7d4411798c6938adc9daaa5       discount       2  "
      ]
     },
     "execution_count": 131,
     "metadata": {},
     "output_type": "execute_result"
    }
   ],
   "source": [
    "# Print out the entire portfolio (since this is a small dataset)\n",
    "portfolio"
   ]
  },
  {
   "cell_type": "code",
   "execution_count": 132,
   "metadata": {},
   "outputs": [
    {
     "name": "stdout",
     "output_type": "stream",
     "text": [
      "<class 'pandas.core.frame.DataFrame'>\n",
      "RangeIndex: 10 entries, 0 to 9\n",
      "Data columns (total 6 columns):\n",
      "channels      10 non-null object\n",
      "difficulty    10 non-null int64\n",
      "duration      10 non-null int64\n",
      "id            10 non-null object\n",
      "offer_type    10 non-null object\n",
      "reward        10 non-null int64\n",
      "dtypes: int64(3), object(3)\n",
      "memory usage: 560.0+ bytes\n"
     ]
    }
   ],
   "source": [
    "# Obtain the data types for the portfolio\n",
    "portfolio.info()"
   ]
  },
  {
   "cell_type": "code",
   "execution_count": 133,
   "metadata": {},
   "outputs": [],
   "source": [
    "# Define a function that will create a horizontal bar graph\n",
    "def plot_barh(df, column, title, bInvertYAxis=True):\n",
    "    plt.figure(figsize=(8,8))\n",
    "    plt.style.use(\"seaborn-pastel\")\n",
    "    fig, ax = plt.subplots()    \n",
    "    y_counts = df[column].value_counts()\n",
    "    if bInvertYAxis == True:\n",
    "        y_counts.plot(kind='barh').invert_yaxis()\n",
    "    else:\n",
    "        y_counts.plot(kind='barh')   \n",
    "    for i, v in enumerate(y_counts):\n",
    "        ax.text(v, i, str(v), color='black', fontsize=12, fontweight='bold')\n",
    "        plt.title(title)"
   ]
  },
  {
   "cell_type": "code",
   "execution_count": 134,
   "metadata": {},
   "outputs": [
    {
     "data": {
      "text/plain": [
       "<matplotlib.figure.Figure at 0x7fd1361bdeb8>"
      ]
     },
     "metadata": {},
     "output_type": "display_data"
    },
    {
     "data": {
      "image/png": "[encoded data removed]",
      "text/plain": [
       "<matplotlib.figure.Figure at 0x7fd136171518>"
      ]
     },
     "metadata": {
      "needs_background": "light"
     },
     "output_type": "display_data"
    }
   ],
   "source": [
    "# Plot the bar graph\n",
    "plot_barh(portfolio, 'offer_type', 'Starbucks Portfolio offer types')"
   ]
  },
  {
   "cell_type": "code",
   "execution_count": 135,
   "metadata": {},
   "outputs": [
    {
     "data": {
      "text/plain": [
       "(17000, 5)"
      ]
     },
     "execution_count": 135,
     "metadata": {},
     "output_type": "execute_result"
    }
   ],
   "source": [
    "# obtain the dimensions of the Starbucks customer profile dataset\n",
    "profile.shape"
   ]
  },
  {
   "cell_type": "code",
   "execution_count": 136,
   "metadata": {},
   "outputs": [
    {
     "data": {
      "text/html": [
       "<div>\n",
       "<style scoped>\n",
       "    .dataframe tbody tr th:only-of-type {\n",
       "        vertical-align: middle;\n",
       "    }\n",
       "\n",
       "    .dataframe tbody tr th {\n",
       "        vertical-align: top;\n",
       "    }\n",
       "\n",
       "    .dataframe thead th {\n",
       "        text-align: right;\n",
       "    }\n",
       "</style>\n",
       "<table border=\"1\" class=\"dataframe\">\n",
       "  <thead>\n",
       "    <tr style=\"text-align: right;\">\n",
       "      <th></th>\n",
       "      <th>age</th>\n",
       "      <th>became_member_on</th>\n",
       "      <th>gender</th>\n",
       "      <th>id</th>\n",
       "      <th>income</th>\n",
       "    </tr>\n",
       "  </thead>\n",
       "  <tbody>\n",
       "    <tr>\n",
       "      <th>0</th>\n",
       "      <td>118</td>\n",
       "      <td>20170212</td>\n",
       "      <td>None</td>\n",
       "      <td>68be06ca386d4c31939f3a4f0e3dd783</td>\n",
       "      <td>NaN</td>\n",
       "    </tr>\n",
       "    <tr>\n",
       "      <th>1</th>\n",
       "      <td>55</td>\n",
       "      <td>20170715</td>\n",
       "      <td>F</td>\n",
       "      <td>0610b486422d4921ae7d2bf64640c50b</td>\n",
       "      <td>112000.0</td>\n",
       "    </tr>\n",
       "    <tr>\n",
       "      <th>2</th>\n",
       "      <td>118</td>\n",
       "      <td>20180712</td>\n",
       "      <td>None</td>\n",
       "      <td>38fe809add3b4fcf9315a9694bb96ff5</td>\n",
       "      <td>NaN</td>\n",
       "    </tr>\n",
       "    <tr>\n",
       "      <th>3</th>\n",
       "      <td>75</td>\n",
       "      <td>20170509</td>\n",
       "      <td>F</td>\n",
       "      <td>78afa995795e4d85b5d9ceeca43f5fef</td>\n",
       "      <td>100000.0</td>\n",
       "    </tr>\n",
       "    <tr>\n",
       "      <th>4</th>\n",
       "      <td>118</td>\n",
       "      <td>20170804</td>\n",
       "      <td>None</td>\n",
       "      <td>a03223e636434f42ac4c3df47e8bac43</td>\n",
       "      <td>NaN</td>\n",
       "    </tr>\n",
       "    <tr>\n",
       "      <th>5</th>\n",
       "      <td>68</td>\n",
       "      <td>20180426</td>\n",
       "      <td>M</td>\n",
       "      <td>e2127556f4f64592b11af22de27a7932</td>\n",
       "      <td>70000.0</td>\n",
       "    </tr>\n",
       "    <tr>\n",
       "      <th>6</th>\n",
       "      <td>118</td>\n",
       "      <td>20170925</td>\n",
       "      <td>None</td>\n",
       "      <td>8ec6ce2a7e7949b1bf142def7d0e0586</td>\n",
       "      <td>NaN</td>\n",
       "    </tr>\n",
       "    <tr>\n",
       "      <th>7</th>\n",
       "      <td>118</td>\n",
       "      <td>20171002</td>\n",
       "      <td>None</td>\n",
       "      <td>68617ca6246f4fbc85e91a2a49552598</td>\n",
       "      <td>NaN</td>\n",
       "    </tr>\n",
       "    <tr>\n",
       "      <th>8</th>\n",
       "      <td>65</td>\n",
       "      <td>20180209</td>\n",
       "      <td>M</td>\n",
       "      <td>389bc3fa690240e798340f5a15918d5c</td>\n",
       "      <td>53000.0</td>\n",
       "    </tr>\n",
       "    <tr>\n",
       "      <th>9</th>\n",
       "      <td>118</td>\n",
       "      <td>20161122</td>\n",
       "      <td>None</td>\n",
       "      <td>8974fc5686fe429db53ddde067b88302</td>\n",
       "      <td>NaN</td>\n",
       "    </tr>\n",
       "  </tbody>\n",
       "</table>\n",
       "</div>"
      ],
      "text/plain": [
       "   age  became_member_on gender                                id    income\n",
       "0  118          20170212   None  68be06ca386d4c31939f3a4f0e3dd783       NaN\n",
       "1   55          20170715      F  0610b486422d4921ae7d2bf64640c50b  112000.0\n",
       "2  118          20180712   None  38fe809add3b4fcf9315a9694bb96ff5       NaN\n",
       "3   75          20170509      F  78afa995795e4d85b5d9ceeca43f5fef  100000.0\n",
       "4  118          20170804   None  a03223e636434f42ac4c3df47e8bac43       NaN\n",
       "5   68          20180426      M  e2127556f4f64592b11af22de27a7932   70000.0\n",
       "6  118          20170925   None  8ec6ce2a7e7949b1bf142def7d0e0586       NaN\n",
       "7  118          20171002   None  68617ca6246f4fbc85e91a2a49552598       NaN\n",
       "8   65          20180209      M  389bc3fa690240e798340f5a15918d5c   53000.0\n",
       "9  118          20161122   None  8974fc5686fe429db53ddde067b88302       NaN"
      ]
     },
     "execution_count": 136,
     "metadata": {},
     "output_type": "execute_result"
    }
   ],
   "source": [
    "# print out the first ten rows of the profile dataset\n",
    "profile.head(10)"
   ]
  },
  {
   "cell_type": "code",
   "execution_count": 137,
   "metadata": {},
   "outputs": [
    {
     "data": {
      "text/plain": [
       "age                    0\n",
       "became_member_on       0\n",
       "gender              2175\n",
       "id                     0\n",
       "income              2175\n",
       "dtype: int64"
      ]
     },
     "execution_count": 137,
     "metadata": {},
     "output_type": "execute_result"
    }
   ],
   "source": [
    "# check missing values in profile\n",
    "profile.isna().sum(axis=0)"
   ]
  },
  {
   "cell_type": "code",
   "execution_count": 138,
   "metadata": {},
   "outputs": [
    {
     "name": "stdout",
     "output_type": "stream",
     "text": [
      "<class 'pandas.core.frame.DataFrame'>\n",
      "RangeIndex: 17000 entries, 0 to 16999\n",
      "Data columns (total 5 columns):\n",
      "age                 17000 non-null int64\n",
      "became_member_on    17000 non-null int64\n",
      "gender              14825 non-null object\n",
      "id                  17000 non-null object\n",
      "income              14825 non-null float64\n",
      "dtypes: float64(1), int64(2), object(2)\n",
      "memory usage: 664.1+ KB\n"
     ]
    }
   ],
   "source": [
    "# Obtain the data types for the profile\n",
    "profile.info()"
   ]
  },
  {
   "cell_type": "code",
   "execution_count": 139,
   "metadata": {},
   "outputs": [
    {
     "data": {
      "text/plain": [
       "(306534, 4)"
      ]
     },
     "execution_count": 139,
     "metadata": {},
     "output_type": "execute_result"
    }
   ],
   "source": [
    "# obtain the dimensions of the Starbucks customer transcript dataset\n",
    "transcript.shape"
   ]
  },
  {
   "cell_type": "code",
   "execution_count": 140,
   "metadata": {},
   "outputs": [
    {
     "data": {
      "text/plain": [
       "<matplotlib.figure.Figure at 0x7fd13612def0>"
      ]
     },
     "metadata": {},
     "output_type": "display_data"
    },
    {
     "data": {
      "image/png": "[encoded data removed]",
      "text/plain": [
       "<matplotlib.figure.Figure at 0x7fd13612a4e0>"
      ]
     },
     "metadata": {
      "needs_background": "light"
     },
     "output_type": "display_data"
    }
   ],
   "source": [
    "# Plot the bar graph for gender\n",
    "plot_barh(profile, 'gender', \"Gender counts in transcript dataset\")"
   ]
  },
  {
   "cell_type": "code",
   "execution_count": 141,
   "metadata": {},
   "outputs": [
    {
     "data": {
      "text/html": [
       "<div>\n",
       "<style scoped>\n",
       "    .dataframe tbody tr th:only-of-type {\n",
       "        vertical-align: middle;\n",
       "    }\n",
       "\n",
       "    .dataframe tbody tr th {\n",
       "        vertical-align: top;\n",
       "    }\n",
       "\n",
       "    .dataframe thead th {\n",
       "        text-align: right;\n",
       "    }\n",
       "</style>\n",
       "<table border=\"1\" class=\"dataframe\">\n",
       "  <thead>\n",
       "    <tr style=\"text-align: right;\">\n",
       "      <th></th>\n",
       "      <th>event</th>\n",
       "      <th>person</th>\n",
       "      <th>time</th>\n",
       "      <th>value</th>\n",
       "    </tr>\n",
       "  </thead>\n",
       "  <tbody>\n",
       "    <tr>\n",
       "      <th>0</th>\n",
       "      <td>offer received</td>\n",
       "      <td>78afa995795e4d85b5d9ceeca43f5fef</td>\n",
       "      <td>0</td>\n",
       "      <td>{'offer id': '9b98b8c7a33c4b65b9aebfe6a799e6d9'}</td>\n",
       "    </tr>\n",
       "    <tr>\n",
       "      <th>1</th>\n",
       "      <td>offer received</td>\n",
       "      <td>a03223e636434f42ac4c3df47e8bac43</td>\n",
       "      <td>0</td>\n",
       "      <td>{'offer id': '0b1e1539f2cc45b7b9fa7c272da2e1d7'}</td>\n",
       "    </tr>\n",
       "    <tr>\n",
       "      <th>2</th>\n",
       "      <td>offer received</td>\n",
       "      <td>e2127556f4f64592b11af22de27a7932</td>\n",
       "      <td>0</td>\n",
       "      <td>{'offer id': '2906b810c7d4411798c6938adc9daaa5'}</td>\n",
       "    </tr>\n",
       "    <tr>\n",
       "      <th>3</th>\n",
       "      <td>offer received</td>\n",
       "      <td>8ec6ce2a7e7949b1bf142def7d0e0586</td>\n",
       "      <td>0</td>\n",
       "      <td>{'offer id': 'fafdcd668e3743c1bb461111dcafc2a4'}</td>\n",
       "    </tr>\n",
       "    <tr>\n",
       "      <th>4</th>\n",
       "      <td>offer received</td>\n",
       "      <td>68617ca6246f4fbc85e91a2a49552598</td>\n",
       "      <td>0</td>\n",
       "      <td>{'offer id': '4d5c57ea9a6940dd891ad53e9dbe8da0'}</td>\n",
       "    </tr>\n",
       "    <tr>\n",
       "      <th>5</th>\n",
       "      <td>offer received</td>\n",
       "      <td>389bc3fa690240e798340f5a15918d5c</td>\n",
       "      <td>0</td>\n",
       "      <td>{'offer id': 'f19421c1d4aa40978ebb69ca19b0e20d'}</td>\n",
       "    </tr>\n",
       "    <tr>\n",
       "      <th>6</th>\n",
       "      <td>offer received</td>\n",
       "      <td>c4863c7985cf408faee930f111475da3</td>\n",
       "      <td>0</td>\n",
       "      <td>{'offer id': '2298d6c36e964ae4a3e7e9706d1fb8c2'}</td>\n",
       "    </tr>\n",
       "    <tr>\n",
       "      <th>7</th>\n",
       "      <td>offer received</td>\n",
       "      <td>2eeac8d8feae4a8cad5a6af0499a211d</td>\n",
       "      <td>0</td>\n",
       "      <td>{'offer id': '3f207df678b143eea3cee63160fa8bed'}</td>\n",
       "    </tr>\n",
       "    <tr>\n",
       "      <th>8</th>\n",
       "      <td>offer received</td>\n",
       "      <td>aa4862eba776480b8bb9c68455b8c2e1</td>\n",
       "      <td>0</td>\n",
       "      <td>{'offer id': '0b1e1539f2cc45b7b9fa7c272da2e1d7'}</td>\n",
       "    </tr>\n",
       "    <tr>\n",
       "      <th>9</th>\n",
       "      <td>offer received</td>\n",
       "      <td>31dda685af34476cad5bc968bdb01c53</td>\n",
       "      <td>0</td>\n",
       "      <td>{'offer id': '0b1e1539f2cc45b7b9fa7c272da2e1d7'}</td>\n",
       "    </tr>\n",
       "  </tbody>\n",
       "</table>\n",
       "</div>"
      ],
      "text/plain": [
       "            event                            person  time  \\\n",
       "0  offer received  78afa995795e4d85b5d9ceeca43f5fef     0   \n",
       "1  offer received  a03223e636434f42ac4c3df47e8bac43     0   \n",
       "2  offer received  e2127556f4f64592b11af22de27a7932     0   \n",
       "3  offer received  8ec6ce2a7e7949b1bf142def7d0e0586     0   \n",
       "4  offer received  68617ca6246f4fbc85e91a2a49552598     0   \n",
       "5  offer received  389bc3fa690240e798340f5a15918d5c     0   \n",
       "6  offer received  c4863c7985cf408faee930f111475da3     0   \n",
       "7  offer received  2eeac8d8feae4a8cad5a6af0499a211d     0   \n",
       "8  offer received  aa4862eba776480b8bb9c68455b8c2e1     0   \n",
       "9  offer received  31dda685af34476cad5bc968bdb01c53     0   \n",
       "\n",
       "                                              value  \n",
       "0  {'offer id': '9b98b8c7a33c4b65b9aebfe6a799e6d9'}  \n",
       "1  {'offer id': '0b1e1539f2cc45b7b9fa7c272da2e1d7'}  \n",
       "2  {'offer id': '2906b810c7d4411798c6938adc9daaa5'}  \n",
       "3  {'offer id': 'fafdcd668e3743c1bb461111dcafc2a4'}  \n",
       "4  {'offer id': '4d5c57ea9a6940dd891ad53e9dbe8da0'}  \n",
       "5  {'offer id': 'f19421c1d4aa40978ebb69ca19b0e20d'}  \n",
       "6  {'offer id': '2298d6c36e964ae4a3e7e9706d1fb8c2'}  \n",
       "7  {'offer id': '3f207df678b143eea3cee63160fa8bed'}  \n",
       "8  {'offer id': '0b1e1539f2cc45b7b9fa7c272da2e1d7'}  \n",
       "9  {'offer id': '0b1e1539f2cc45b7b9fa7c272da2e1d7'}  "
      ]
     },
     "execution_count": 141,
     "metadata": {},
     "output_type": "execute_result"
    }
   ],
   "source": [
    "# print out the first ten rows of the transcript dataset\n",
    "transcript.head(10)"
   ]
  },
  {
   "cell_type": "code",
   "execution_count": 142,
   "metadata": {},
   "outputs": [
    {
     "name": "stdout",
     "output_type": "stream",
     "text": [
      "<class 'pandas.core.frame.DataFrame'>\n",
      "RangeIndex: 306534 entries, 0 to 306533\n",
      "Data columns (total 4 columns):\n",
      "event     306534 non-null object\n",
      "person    306534 non-null object\n",
      "time      306534 non-null int64\n",
      "value     306534 non-null object\n",
      "dtypes: int64(1), object(3)\n",
      "memory usage: 9.4+ MB\n"
     ]
    }
   ],
   "source": [
    "# Obtain the data types for the transcript\n",
    "transcript.info()"
   ]
  },
  {
   "cell_type": "code",
   "execution_count": 143,
   "metadata": {},
   "outputs": [
    {
     "data": {
      "text/plain": [
       "event     0\n",
       "person    0\n",
       "time      0\n",
       "value     0\n",
       "dtype: int64"
      ]
     },
     "execution_count": 143,
     "metadata": {},
     "output_type": "execute_result"
    }
   ],
   "source": [
    "# check missing values in transcript\n",
    "transcript.isna().sum(axis=0)"
   ]
  },
  {
   "cell_type": "code",
   "execution_count": 144,
   "metadata": {},
   "outputs": [
    {
     "data": {
      "text/plain": [
       "<matplotlib.figure.Figure at 0x7fd13613dd30>"
      ]
     },
     "metadata": {},
     "output_type": "display_data"
    },
    {
     "data": {
      "image/png": "[encoded data removed]",
      "text/plain": [
       "<matplotlib.figure.Figure at 0x7fd136132be0>"
      ]
     },
     "metadata": {
      "needs_background": "light"
     },
     "output_type": "display_data"
    }
   ],
   "source": [
    "plot_barh(transcript, 'event', \"Event types in transcript dataset\")"
   ]
  },
  {
   "cell_type": "markdown",
   "metadata": {},
   "source": [
    "<H2>Data Cleaning</H2>"
   ]
  },
  {
   "cell_type": "markdown",
   "metadata": {},
   "source": [
    "<P>For the data cleaning, we will clean the datasets for both profile and transcript.</P>"
   ]
  },
  {
   "cell_type": "code",
   "execution_count": 145,
   "metadata": {},
   "outputs": [],
   "source": [
    "# Convert format of became_member_on from YYYYMMDD to YYYY-MM-DD\n",
    "profile.became_member_on = pd.to_datetime(profile.became_member_on, format = '%Y%m%d')"
   ]
  },
  {
   "cell_type": "code",
   "execution_count": 146,
   "metadata": {},
   "outputs": [],
   "source": [
    "# Remove those profiles that match the age of 118\n",
    "remove  = profile[profile.age == 118]\n",
    "profile = profile[profile.age < 118].reset_index(drop=True)"
   ]
  },
  {
   "cell_type": "code",
   "execution_count": 147,
   "metadata": {},
   "outputs": [],
   "source": [
    "# store 0 and 1s in new columns\n",
    "profile['missing'] = profile['age'].apply(lambda val: 1 if pd.isna(val) else 0)\n",
    "dropped = profile[profile['missing'] == 1].index"
   ]
  },
  {
   "cell_type": "code",
   "execution_count": 148,
   "metadata": {},
   "outputs": [],
   "source": [
    "# Store profile in new cleaned dataset\n",
    "cust_profile = profile.drop(dropped)"
   ]
  },
  {
   "cell_type": "code",
   "execution_count": 149,
   "metadata": {},
   "outputs": [
    {
     "data": {
      "text/html": [
       "<div>\n",
       "<style scoped>\n",
       "    .dataframe tbody tr th:only-of-type {\n",
       "        vertical-align: middle;\n",
       "    }\n",
       "\n",
       "    .dataframe tbody tr th {\n",
       "        vertical-align: top;\n",
       "    }\n",
       "\n",
       "    .dataframe thead th {\n",
       "        text-align: right;\n",
       "    }\n",
       "</style>\n",
       "<table border=\"1\" class=\"dataframe\">\n",
       "  <thead>\n",
       "    <tr style=\"text-align: right;\">\n",
       "      <th></th>\n",
       "      <th>age</th>\n",
       "      <th>became_member_on</th>\n",
       "      <th>gender</th>\n",
       "      <th>id</th>\n",
       "      <th>income</th>\n",
       "      <th>missing</th>\n",
       "    </tr>\n",
       "  </thead>\n",
       "  <tbody>\n",
       "    <tr>\n",
       "      <th>0</th>\n",
       "      <td>55</td>\n",
       "      <td>2017-07-15</td>\n",
       "      <td>F</td>\n",
       "      <td>0610b486422d4921ae7d2bf64640c50b</td>\n",
       "      <td>112000.0</td>\n",
       "      <td>0</td>\n",
       "    </tr>\n",
       "    <tr>\n",
       "      <th>1</th>\n",
       "      <td>75</td>\n",
       "      <td>2017-05-09</td>\n",
       "      <td>F</td>\n",
       "      <td>78afa995795e4d85b5d9ceeca43f5fef</td>\n",
       "      <td>100000.0</td>\n",
       "      <td>0</td>\n",
       "    </tr>\n",
       "    <tr>\n",
       "      <th>2</th>\n",
       "      <td>68</td>\n",
       "      <td>2018-04-26</td>\n",
       "      <td>M</td>\n",
       "      <td>e2127556f4f64592b11af22de27a7932</td>\n",
       "      <td>70000.0</td>\n",
       "      <td>0</td>\n",
       "    </tr>\n",
       "    <tr>\n",
       "      <th>3</th>\n",
       "      <td>65</td>\n",
       "      <td>2018-02-09</td>\n",
       "      <td>M</td>\n",
       "      <td>389bc3fa690240e798340f5a15918d5c</td>\n",
       "      <td>53000.0</td>\n",
       "      <td>0</td>\n",
       "    </tr>\n",
       "    <tr>\n",
       "      <th>4</th>\n",
       "      <td>58</td>\n",
       "      <td>2017-11-11</td>\n",
       "      <td>M</td>\n",
       "      <td>2eeac8d8feae4a8cad5a6af0499a211d</td>\n",
       "      <td>51000.0</td>\n",
       "      <td>0</td>\n",
       "    </tr>\n",
       "    <tr>\n",
       "      <th>5</th>\n",
       "      <td>61</td>\n",
       "      <td>2017-09-11</td>\n",
       "      <td>F</td>\n",
       "      <td>aa4862eba776480b8bb9c68455b8c2e1</td>\n",
       "      <td>57000.0</td>\n",
       "      <td>0</td>\n",
       "    </tr>\n",
       "    <tr>\n",
       "      <th>6</th>\n",
       "      <td>26</td>\n",
       "      <td>2014-02-13</td>\n",
       "      <td>M</td>\n",
       "      <td>e12aeaf2d47d42479ea1c4ac3d8286c6</td>\n",
       "      <td>46000.0</td>\n",
       "      <td>0</td>\n",
       "    </tr>\n",
       "    <tr>\n",
       "      <th>7</th>\n",
       "      <td>62</td>\n",
       "      <td>2016-02-11</td>\n",
       "      <td>F</td>\n",
       "      <td>31dda685af34476cad5bc968bdb01c53</td>\n",
       "      <td>71000.0</td>\n",
       "      <td>0</td>\n",
       "    </tr>\n",
       "    <tr>\n",
       "      <th>8</th>\n",
       "      <td>49</td>\n",
       "      <td>2014-11-13</td>\n",
       "      <td>M</td>\n",
       "      <td>62cf5e10845442329191fc246e7bcea3</td>\n",
       "      <td>52000.0</td>\n",
       "      <td>0</td>\n",
       "    </tr>\n",
       "    <tr>\n",
       "      <th>9</th>\n",
       "      <td>57</td>\n",
       "      <td>2017-12-31</td>\n",
       "      <td>M</td>\n",
       "      <td>6445de3b47274c759400cd68131d91b4</td>\n",
       "      <td>42000.0</td>\n",
       "      <td>0</td>\n",
       "    </tr>\n",
       "  </tbody>\n",
       "</table>\n",
       "</div>"
      ],
      "text/plain": [
       "   age became_member_on gender                                id    income  \\\n",
       "0   55       2017-07-15      F  0610b486422d4921ae7d2bf64640c50b  112000.0   \n",
       "1   75       2017-05-09      F  78afa995795e4d85b5d9ceeca43f5fef  100000.0   \n",
       "2   68       2018-04-26      M  e2127556f4f64592b11af22de27a7932   70000.0   \n",
       "3   65       2018-02-09      M  389bc3fa690240e798340f5a15918d5c   53000.0   \n",
       "4   58       2017-11-11      M  2eeac8d8feae4a8cad5a6af0499a211d   51000.0   \n",
       "5   61       2017-09-11      F  aa4862eba776480b8bb9c68455b8c2e1   57000.0   \n",
       "6   26       2014-02-13      M  e12aeaf2d47d42479ea1c4ac3d8286c6   46000.0   \n",
       "7   62       2016-02-11      F  31dda685af34476cad5bc968bdb01c53   71000.0   \n",
       "8   49       2014-11-13      M  62cf5e10845442329191fc246e7bcea3   52000.0   \n",
       "9   57       2017-12-31      M  6445de3b47274c759400cd68131d91b4   42000.0   \n",
       "\n",
       "   missing  \n",
       "0        0  \n",
       "1        0  \n",
       "2        0  \n",
       "3        0  \n",
       "4        0  \n",
       "5        0  \n",
       "6        0  \n",
       "7        0  \n",
       "8        0  \n",
       "9        0  "
      ]
     },
     "execution_count": 149,
     "metadata": {},
     "output_type": "execute_result"
    }
   ],
   "source": [
    "# Print out first 10 rows of new profile dataset\n",
    "cust_profile.head(10)"
   ]
  },
  {
   "cell_type": "code",
   "execution_count": 150,
   "metadata": {},
   "outputs": [],
   "source": [
    "# Process to build a new dataframe that consists of transaction, offer received,\n",
    "# offer viewed, offer completed\n",
    "the_transaction = transcript[transcript.event == 'transaction']\n",
    "the_offer_received = transcript[transcript.event == 'offer received']\n",
    "the_offer_viewed = transcript[transcript.event == 'offer viewed']\n",
    "the_offer_completed = transcript[transcript.event == 'offer completed']"
   ]
  },
  {
   "cell_type": "code",
   "execution_count": 151,
   "metadata": {},
   "outputs": [],
   "source": [
    "the_transaction['amount'] = the_transaction.value.apply(lambda x:list(x.values())[0])\n",
    "the_offer_received['offer_id'] = the_offer_received.value.apply(lambda x:list(x.values())[0])\n",
    "the_offer_viewed['offer_id'] = the_offer_viewed.value.apply(lambda x:list(x.values())[0])\n",
    "the_offer_completed['offer_id'] = the_offer_completed.value.apply(lambda x:list(x.values())[0])\n",
    "the_offer_completed['reward'] = the_offer_completed.value.apply(lambda x:list(x.values())[1])"
   ]
  },
  {
   "cell_type": "code",
   "execution_count": 152,
   "metadata": {},
   "outputs": [],
   "source": [
    "# Creating the new dataframe\n",
    "transcript = pd.concat([the_transaction, the_offer_received, the_offer_viewed, the_offer_completed])\n",
    "transcript = transcript[['event', 'person', 'offer_id', 'time', 'amount', 'reward', 'value']]\n",
    "transcript.drop(columns='value', inplace=True)"
   ]
  },
  {
   "cell_type": "code",
   "execution_count": 153,
   "metadata": {},
   "outputs": [
    {
     "data": {
      "text/html": [
       "<div>\n",
       "<style scoped>\n",
       "    .dataframe tbody tr th:only-of-type {\n",
       "        vertical-align: middle;\n",
       "    }\n",
       "\n",
       "    .dataframe tbody tr th {\n",
       "        vertical-align: top;\n",
       "    }\n",
       "\n",
       "    .dataframe thead th {\n",
       "        text-align: right;\n",
       "    }\n",
       "</style>\n",
       "<table border=\"1\" class=\"dataframe\">\n",
       "  <thead>\n",
       "    <tr style=\"text-align: right;\">\n",
       "      <th></th>\n",
       "      <th>event</th>\n",
       "      <th>person</th>\n",
       "      <th>offer_id</th>\n",
       "      <th>time</th>\n",
       "      <th>amount</th>\n",
       "      <th>reward</th>\n",
       "    </tr>\n",
       "  </thead>\n",
       "  <tbody>\n",
       "    <tr>\n",
       "      <th>12654</th>\n",
       "      <td>transaction</td>\n",
       "      <td>02c083884c7d45b39cc68e1314fec56c</td>\n",
       "      <td>NaN</td>\n",
       "      <td>0</td>\n",
       "      <td>0.83</td>\n",
       "      <td>NaN</td>\n",
       "    </tr>\n",
       "    <tr>\n",
       "      <th>12657</th>\n",
       "      <td>transaction</td>\n",
       "      <td>9fa9ae8f57894cc9a3b8a9bbe0fc1b2f</td>\n",
       "      <td>NaN</td>\n",
       "      <td>0</td>\n",
       "      <td>34.56</td>\n",
       "      <td>NaN</td>\n",
       "    </tr>\n",
       "    <tr>\n",
       "      <th>12659</th>\n",
       "      <td>transaction</td>\n",
       "      <td>54890f68699049c2a04d415abc25e717</td>\n",
       "      <td>NaN</td>\n",
       "      <td>0</td>\n",
       "      <td>13.23</td>\n",
       "      <td>NaN</td>\n",
       "    </tr>\n",
       "    <tr>\n",
       "      <th>12670</th>\n",
       "      <td>transaction</td>\n",
       "      <td>b2f1cd155b864803ad8334cdf13c4bd2</td>\n",
       "      <td>NaN</td>\n",
       "      <td>0</td>\n",
       "      <td>19.51</td>\n",
       "      <td>NaN</td>\n",
       "    </tr>\n",
       "    <tr>\n",
       "      <th>12671</th>\n",
       "      <td>transaction</td>\n",
       "      <td>fe97aa22dd3e48c8b143116a8403dd52</td>\n",
       "      <td>NaN</td>\n",
       "      <td>0</td>\n",
       "      <td>18.97</td>\n",
       "      <td>NaN</td>\n",
       "    </tr>\n",
       "    <tr>\n",
       "      <th>12678</th>\n",
       "      <td>transaction</td>\n",
       "      <td>629fc02d56414d91bca360decdfa9288</td>\n",
       "      <td>NaN</td>\n",
       "      <td>0</td>\n",
       "      <td>33.90</td>\n",
       "      <td>NaN</td>\n",
       "    </tr>\n",
       "    <tr>\n",
       "      <th>12686</th>\n",
       "      <td>transaction</td>\n",
       "      <td>bbeb54e861614fc7b22a8844f72dca6c</td>\n",
       "      <td>NaN</td>\n",
       "      <td>0</td>\n",
       "      <td>0.22</td>\n",
       "      <td>NaN</td>\n",
       "    </tr>\n",
       "    <tr>\n",
       "      <th>12687</th>\n",
       "      <td>transaction</td>\n",
       "      <td>a97e6f33219c432db82acfa0d19c602d</td>\n",
       "      <td>NaN</td>\n",
       "      <td>0</td>\n",
       "      <td>18.59</td>\n",
       "      <td>NaN</td>\n",
       "    </tr>\n",
       "    <tr>\n",
       "      <th>12691</th>\n",
       "      <td>transaction</td>\n",
       "      <td>676506bad68e4161b9bbaffeb039626b</td>\n",
       "      <td>NaN</td>\n",
       "      <td>0</td>\n",
       "      <td>18.01</td>\n",
       "      <td>NaN</td>\n",
       "    </tr>\n",
       "    <tr>\n",
       "      <th>12696</th>\n",
       "      <td>transaction</td>\n",
       "      <td>8f7dd3b2afe14c078eb4f6e6fe4ba97d</td>\n",
       "      <td>NaN</td>\n",
       "      <td>0</td>\n",
       "      <td>19.11</td>\n",
       "      <td>NaN</td>\n",
       "    </tr>\n",
       "  </tbody>\n",
       "</table>\n",
       "</div>"
      ],
      "text/plain": [
       "             event                            person offer_id  time  amount  \\\n",
       "12654  transaction  02c083884c7d45b39cc68e1314fec56c      NaN     0    0.83   \n",
       "12657  transaction  9fa9ae8f57894cc9a3b8a9bbe0fc1b2f      NaN     0   34.56   \n",
       "12659  transaction  54890f68699049c2a04d415abc25e717      NaN     0   13.23   \n",
       "12670  transaction  b2f1cd155b864803ad8334cdf13c4bd2      NaN     0   19.51   \n",
       "12671  transaction  fe97aa22dd3e48c8b143116a8403dd52      NaN     0   18.97   \n",
       "12678  transaction  629fc02d56414d91bca360decdfa9288      NaN     0   33.90   \n",
       "12686  transaction  bbeb54e861614fc7b22a8844f72dca6c      NaN     0    0.22   \n",
       "12687  transaction  a97e6f33219c432db82acfa0d19c602d      NaN     0   18.59   \n",
       "12691  transaction  676506bad68e4161b9bbaffeb039626b      NaN     0   18.01   \n",
       "12696  transaction  8f7dd3b2afe14c078eb4f6e6fe4ba97d      NaN     0   19.11   \n",
       "\n",
       "       reward  \n",
       "12654     NaN  \n",
       "12657     NaN  \n",
       "12659     NaN  \n",
       "12670     NaN  \n",
       "12671     NaN  \n",
       "12678     NaN  \n",
       "12686     NaN  \n",
       "12687     NaN  \n",
       "12691     NaN  \n",
       "12696     NaN  "
      ]
     },
     "execution_count": 153,
     "metadata": {},
     "output_type": "execute_result"
    }
   ],
   "source": [
    "# Print out first ten rows of new dataframe\n",
    "transcript.head(10)"
   ]
  },
  {
   "cell_type": "code",
   "execution_count": 154,
   "metadata": {},
   "outputs": [
    {
     "data": {
      "text/plain": [
       "(306534, 6)"
      ]
     },
     "execution_count": 154,
     "metadata": {},
     "output_type": "execute_result"
    }
   ],
   "source": [
    "# Get dimensions of the new dataframe\n",
    "transcript.shape"
   ]
  },
  {
   "cell_type": "markdown",
   "metadata": {},
   "source": [
    "<H2>Data Analysis</H2>"
   ]
  },
  {
   "cell_type": "code",
   "execution_count": 155,
   "metadata": {},
   "outputs": [
    {
     "data": {
      "text/plain": [
       "Text(0,0.5,'Number of customers')"
      ]
     },
     "execution_count": 155,
     "metadata": {},
     "output_type": "execute_result"
    },
    {
     "data": {
      "image/png": "[encoded data removed]",
      "text/plain": [
       "<matplotlib.figure.Figure at 0x7fd13610ca90>"
      ]
     },
     "metadata": {
      "needs_background": "light"
     },
     "output_type": "display_data"
    }
   ],
   "source": [
    "# Create a histogram showing the ages for all customers in the profile dataset\n",
    "plt.figure(figsize=(10,6))\n",
    "plt.hist(cust_profile['age'], bins=20, color='#FFFF66')\n",
    "plt.title('Starbucks Customer Age Profile')\n",
    "plt.xlabel('Age')\n",
    "plt.ylabel('Number of customers')"
   ]
  },
  {
   "cell_type": "markdown",
   "metadata": {},
   "source": [
    "<P>According to the above histogram, the majority of customers are between 50 to 60 years of age.</P>"
   ]
  },
  {
   "cell_type": "code",
   "execution_count": 156,
   "metadata": {},
   "outputs": [
    {
     "data": {
      "text/plain": [
       "Text(0,0.5,'Number of customers')"
      ]
     },
     "execution_count": 156,
     "metadata": {},
     "output_type": "execute_result"
    },
    {
     "data": {
      "image/png": "[encoded data removed]",
      "text/plain": [
       "<matplotlib.figure.Figure at 0x7fd13614f940>"
      ]
     },
     "metadata": {
      "needs_background": "light"
     },
     "output_type": "display_data"
    }
   ],
   "source": [
    "# Create a histogram showing the genders for all customers in the profile dataset\n",
    "plt.figure(figsize=(10,6))\n",
    "plt.hist(cust_profile['gender'], bins=20, color='#6699FF')\n",
    "plt.title('Starbucks Customer Gender Profile')\n",
    "plt.xlabel('Gender')\n",
    "plt.ylabel('Number of customers')"
   ]
  },
  {
   "cell_type": "markdown",
   "metadata": {},
   "source": [
    "<P>According to the above histogram, the majority of customers are male.</P>"
   ]
  },
  {
   "cell_type": "code",
   "execution_count": 157,
   "metadata": {},
   "outputs": [
    {
     "data": {
      "text/plain": [
       "<matplotlib.axes._subplots.AxesSubplot at 0x7fd1360f1128>"
      ]
     },
     "execution_count": 157,
     "metadata": {},
     "output_type": "execute_result"
    },
    {
     "data": {
      "image/png": "[encoded data removed]",
      "text/plain": [
       "<matplotlib.figure.Figure at 0x7fd1361107b8>"
      ]
     },
     "metadata": {},
     "output_type": "display_data"
    }
   ],
   "source": [
    "# Create a pie chart for all genders in the dataset\n",
    "gender_pie_chart = cust_profile[cust_profile['gender'] != 'X']\n",
    "gender_pie_chart.gender.value_counts().plot(kind='pie', figsize=(10,10), autopct='%1.1f%%')"
   ]
  },
  {
   "cell_type": "markdown",
   "metadata": {},
   "source": [
    "<P>According to the pie chart above, 57% of the customers are male and 41% are female; slightly above 1% identify as gender 'O'</P>"
   ]
  },
  {
   "cell_type": "code",
   "execution_count": 158,
   "metadata": {},
   "outputs": [
    {
     "data": {
      "text/plain": [
       "Text(0,0.5,'Number of customers')"
      ]
     },
     "execution_count": 158,
     "metadata": {},
     "output_type": "execute_result"
    },
    {
     "data": {
      "image/png": "[encoded data removed]",
      "text/plain": [
       "<matplotlib.figure.Figure at 0x7fd1360f8c50>"
      ]
     },
     "metadata": {
      "needs_background": "light"
     },
     "output_type": "display_data"
    }
   ],
   "source": [
    "# Create a histogram showing the incomes for all customers in the profile dataset\n",
    "plt.figure(figsize=(10,6))\n",
    "plt.hist(cust_profile['income'], bins=20, color='#CC99FF')\n",
    "plt.title('Starbucks Customer Income Profile')\n",
    "plt.xlabel('Income')\n",
    "plt.ylabel('Number of customers')"
   ]
  },
  {
   "cell_type": "markdown",
   "metadata": {},
   "source": [
    "<P>According to the above histogram, the majority of customers' annual income is between 50K to 70K (but higher more towards 70K).</P>"
   ]
  },
  {
   "cell_type": "code",
   "execution_count": 159,
   "metadata": {},
   "outputs": [
    {
     "name": "stdout",
     "output_type": "stream",
     "text": [
      "Summary of Starbucks customer profile\n",
      "----------------------------------\n",
      "Age:  54.3935244519\n",
      "Gender:  M\n",
      "Income:  65404.9915683\n"
     ]
    }
   ],
   "source": [
    "# Print out the summary of the above histograms, to obtain a customer profile\n",
    "print(\"Summary of Starbucks customer profile\")\n",
    "print(\"----------------------------------\")\n",
    "print(\"Age: \", cust_profile.age.mean())\n",
    "print(\"Gender:  M\")\n",
    "print(\"Income: \", cust_profile.income.mean())"
   ]
  },
  {
   "cell_type": "code",
   "execution_count": 160,
   "metadata": {},
   "outputs": [
    {
     "data": {
      "image/png": "[encoded data removed]",
      "text/plain": [
       "<matplotlib.figure.Figure at 0x7fd1360cd710>"
      ]
     },
     "metadata": {
      "needs_background": "light"
     },
     "output_type": "display_data"
    }
   ],
   "source": [
    "# Create a bar graph showing the memberships for all customers in the profile dataset\n",
    "# versus the years in which customers became a member\n",
    "plt.figure(figsize=(10,6))\n",
    "cust_profile['membership_year'] = profile['became_member_on'].dt.year\n",
    "membership = cust_profile.groupby('membership_year').count()['id']\n",
    "membership.plot(kind='bar', color='#999999')\n",
    "plt.title('Memberships')\n",
    "plt.xlabel('Year')\n",
    "plt.ylabel('Count')\n",
    "plt.show()"
   ]
  },
  {
   "cell_type": "markdown",
   "metadata": {},
   "source": [
    "<P>The year in which memberships was highest was in 2017.</P>"
   ]
  },
  {
   "cell_type": "code",
   "execution_count": 161,
   "metadata": {},
   "outputs": [
    {
     "data": {
      "image/png": "[encoded data removed]",
      "text/plain": [
       "<matplotlib.figure.Figure at 0x7fd13606d208>"
      ]
     },
     "metadata": {
      "needs_background": "light"
     },
     "output_type": "display_data"
    }
   ],
   "source": [
    "# Display the list of offers between the genders\n",
    "plt.figure(figsize=(10,6))\n",
    "plt.style.use(\"seaborn-pastel\")\n",
    "sns.countplot(x=cust_profile.gender, hue=portfolio.offer_type)\n",
    "plt.title('Offers')\n",
    "plt.ylabel('Total')\n",
    "plt.xlabel('Gender')\n",
    "plt.xticks(rotation = 0)\n",
    "plt.legend(title='Offer')\n",
    "plt.legend(loc='upper right')\n",
    "plt.show();"
   ]
  },
  {
   "cell_type": "markdown",
   "metadata": {},
   "source": [
    "<P>According to the above graph, the most popular Starbucks offer for female customers is BOGO; for male customers, however, it is the traditional discount offer (but BOGO is just as popular with male customers as it is for female customers).</P>"
   ]
  },
  {
   "cell_type": "markdown",
   "metadata": {},
   "source": [
    "<H2>Data Preparation</H2>"
   ]
  },
  {
   "cell_type": "code",
   "execution_count": 162,
   "metadata": {},
   "outputs": [],
   "source": [
    "# First we will get the event data to convert into dummy values, then we will remove\n",
    "# duplicate rows from the transcript dataframe\n",
    "transcript = pd.get_dummies(transcript, columns=['event'] , prefix='', prefix_sep='')\n",
    "transcript.drop_duplicates(inplace=True)"
   ]
  },
  {
   "cell_type": "code",
   "execution_count": 163,
   "metadata": {},
   "outputs": [],
   "source": [
    "# Created a merged dataset that includes individual (person), \n",
    "# Also replace any 'NaN' values with 0\n",
    "merge_data = pd.merge(transcript, profile, left_on='person', right_on='id', how='inner')\n",
    "merge_data.drop(columns=['id'], inplace=True)\n",
    "merge_data.reward.fillna(0, inplace=True)\n",
    "merge_data.amount.fillna(0, inplace=True)"
   ]
  },
  {
   "cell_type": "code",
   "execution_count": 164,
   "metadata": {},
   "outputs": [],
   "source": [
    "# sort values\n",
    "merge_data.sort_values(by=['time'], ascending=True, inplace=True)\n",
    "list1 = ['transaction', 'amount']\n",
    "for i in list1:\n",
    "    merge_data[i] = merge_data.groupby('person')[i].cumsum()"
   ]
  },
  {
   "cell_type": "code",
   "execution_count": 165,
   "metadata": {},
   "outputs": [],
   "source": [
    "merge_data.dropna(subset=['offer_id'], inplace=True)"
   ]
  },
  {
   "cell_type": "code",
   "execution_count": 166,
   "metadata": {},
   "outputs": [],
   "source": [
    "merge_data = merge_data.merge(portfolio, left_on='offer_id', right_on='id', how='left')"
   ]
  },
  {
   "cell_type": "code",
   "execution_count": 167,
   "metadata": {},
   "outputs": [
    {
     "data": {
      "text/html": [
       "<div>\n",
       "<style scoped>\n",
       "    .dataframe tbody tr th:only-of-type {\n",
       "        vertical-align: middle;\n",
       "    }\n",
       "\n",
       "    .dataframe tbody tr th {\n",
       "        vertical-align: top;\n",
       "    }\n",
       "\n",
       "    .dataframe thead th {\n",
       "        text-align: right;\n",
       "    }\n",
       "</style>\n",
       "<table border=\"1\" class=\"dataframe\">\n",
       "  <thead>\n",
       "    <tr style=\"text-align: right;\">\n",
       "      <th></th>\n",
       "      <th>person</th>\n",
       "      <th>offer_id</th>\n",
       "      <th>time</th>\n",
       "      <th>amount</th>\n",
       "      <th>reward_x</th>\n",
       "      <th>offer completed</th>\n",
       "      <th>offer received</th>\n",
       "      <th>offer viewed</th>\n",
       "      <th>transaction</th>\n",
       "      <th>age</th>\n",
       "      <th>became_member_on</th>\n",
       "      <th>gender</th>\n",
       "      <th>income</th>\n",
       "      <th>missing</th>\n",
       "      <th>channels</th>\n",
       "      <th>difficulty</th>\n",
       "      <th>duration</th>\n",
       "      <th>id</th>\n",
       "      <th>offer_type</th>\n",
       "      <th>reward_y</th>\n",
       "    </tr>\n",
       "  </thead>\n",
       "  <tbody>\n",
       "    <tr>\n",
       "      <th>0</th>\n",
       "      <td>a5c24057de1147a798422162559bbe83</td>\n",
       "      <td>4d5c57ea9a6940dd891ad53e9dbe8da0</td>\n",
       "      <td>0</td>\n",
       "      <td>0.0</td>\n",
       "      <td>0.0</td>\n",
       "      <td>0</td>\n",
       "      <td>1</td>\n",
       "      <td>0</td>\n",
       "      <td>0</td>\n",
       "      <td>33</td>\n",
       "      <td>2018-06-12</td>\n",
       "      <td>M</td>\n",
       "      <td>45000.0</td>\n",
       "      <td>0</td>\n",
       "      <td>[web, email, mobile, social]</td>\n",
       "      <td>10</td>\n",
       "      <td>5</td>\n",
       "      <td>4d5c57ea9a6940dd891ad53e9dbe8da0</td>\n",
       "      <td>bogo</td>\n",
       "      <td>10</td>\n",
       "    </tr>\n",
       "    <tr>\n",
       "      <th>1</th>\n",
       "      <td>84eb11751c674c5ab910f3bebe78586d</td>\n",
       "      <td>0b1e1539f2cc45b7b9fa7c272da2e1d7</td>\n",
       "      <td>0</td>\n",
       "      <td>0.0</td>\n",
       "      <td>0.0</td>\n",
       "      <td>0</td>\n",
       "      <td>1</td>\n",
       "      <td>0</td>\n",
       "      <td>0</td>\n",
       "      <td>73</td>\n",
       "      <td>2013-11-15</td>\n",
       "      <td>M</td>\n",
       "      <td>63000.0</td>\n",
       "      <td>0</td>\n",
       "      <td>[web, email]</td>\n",
       "      <td>20</td>\n",
       "      <td>10</td>\n",
       "      <td>0b1e1539f2cc45b7b9fa7c272da2e1d7</td>\n",
       "      <td>discount</td>\n",
       "      <td>5</td>\n",
       "    </tr>\n",
       "    <tr>\n",
       "      <th>2</th>\n",
       "      <td>8dc17515545e42d9a2974a3aebc3aa69</td>\n",
       "      <td>fafdcd668e3743c1bb461111dcafc2a4</td>\n",
       "      <td>0</td>\n",
       "      <td>0.0</td>\n",
       "      <td>0.0</td>\n",
       "      <td>0</td>\n",
       "      <td>1</td>\n",
       "      <td>0</td>\n",
       "      <td>0</td>\n",
       "      <td>61</td>\n",
       "      <td>2018-06-08</td>\n",
       "      <td>M</td>\n",
       "      <td>43000.0</td>\n",
       "      <td>0</td>\n",
       "      <td>[web, email, mobile, social]</td>\n",
       "      <td>10</td>\n",
       "      <td>10</td>\n",
       "      <td>fafdcd668e3743c1bb461111dcafc2a4</td>\n",
       "      <td>discount</td>\n",
       "      <td>2</td>\n",
       "    </tr>\n",
       "    <tr>\n",
       "      <th>3</th>\n",
       "      <td>a5675e02cac04aefb87d21551a3dfa8c</td>\n",
       "      <td>f19421c1d4aa40978ebb69ca19b0e20d</td>\n",
       "      <td>0</td>\n",
       "      <td>0.0</td>\n",
       "      <td>0.0</td>\n",
       "      <td>0</td>\n",
       "      <td>1</td>\n",
       "      <td>0</td>\n",
       "      <td>0</td>\n",
       "      <td>42</td>\n",
       "      <td>2017-11-20</td>\n",
       "      <td>M</td>\n",
       "      <td>54000.0</td>\n",
       "      <td>0</td>\n",
       "      <td>[web, email, mobile, social]</td>\n",
       "      <td>5</td>\n",
       "      <td>5</td>\n",
       "      <td>f19421c1d4aa40978ebb69ca19b0e20d</td>\n",
       "      <td>bogo</td>\n",
       "      <td>5</td>\n",
       "    </tr>\n",
       "    <tr>\n",
       "      <th>4</th>\n",
       "      <td>3339d9d8f5ff4664bd259572330c5dbf</td>\n",
       "      <td>ae264e3637204a6fb9bb56bc8210ddfd</td>\n",
       "      <td>0</td>\n",
       "      <td>0.0</td>\n",
       "      <td>0.0</td>\n",
       "      <td>0</td>\n",
       "      <td>1</td>\n",
       "      <td>0</td>\n",
       "      <td>0</td>\n",
       "      <td>62</td>\n",
       "      <td>2014-11-05</td>\n",
       "      <td>M</td>\n",
       "      <td>44000.0</td>\n",
       "      <td>0</td>\n",
       "      <td>[email, mobile, social]</td>\n",
       "      <td>10</td>\n",
       "      <td>7</td>\n",
       "      <td>ae264e3637204a6fb9bb56bc8210ddfd</td>\n",
       "      <td>bogo</td>\n",
       "      <td>10</td>\n",
       "    </tr>\n",
       "    <tr>\n",
       "      <th>5</th>\n",
       "      <td>b5b17db2d0af49fe89abfd7076b605a8</td>\n",
       "      <td>2298d6c36e964ae4a3e7e9706d1fb8c2</td>\n",
       "      <td>0</td>\n",
       "      <td>0.0</td>\n",
       "      <td>0.0</td>\n",
       "      <td>0</td>\n",
       "      <td>1</td>\n",
       "      <td>0</td>\n",
       "      <td>0</td>\n",
       "      <td>58</td>\n",
       "      <td>2017-02-26</td>\n",
       "      <td>M</td>\n",
       "      <td>39000.0</td>\n",
       "      <td>0</td>\n",
       "      <td>[web, email, mobile, social]</td>\n",
       "      <td>7</td>\n",
       "      <td>7</td>\n",
       "      <td>2298d6c36e964ae4a3e7e9706d1fb8c2</td>\n",
       "      <td>discount</td>\n",
       "      <td>3</td>\n",
       "    </tr>\n",
       "    <tr>\n",
       "      <th>6</th>\n",
       "      <td>60ae06998f034851b0c571f8fb4e1165</td>\n",
       "      <td>2298d6c36e964ae4a3e7e9706d1fb8c2</td>\n",
       "      <td>0</td>\n",
       "      <td>0.0</td>\n",
       "      <td>0.0</td>\n",
       "      <td>0</td>\n",
       "      <td>1</td>\n",
       "      <td>0</td>\n",
       "      <td>0</td>\n",
       "      <td>55</td>\n",
       "      <td>2017-12-17</td>\n",
       "      <td>M</td>\n",
       "      <td>62000.0</td>\n",
       "      <td>0</td>\n",
       "      <td>[web, email, mobile, social]</td>\n",
       "      <td>7</td>\n",
       "      <td>7</td>\n",
       "      <td>2298d6c36e964ae4a3e7e9706d1fb8c2</td>\n",
       "      <td>discount</td>\n",
       "      <td>3</td>\n",
       "    </tr>\n",
       "    <tr>\n",
       "      <th>7</th>\n",
       "      <td>a5c24057de1147a798422162559bbe83</td>\n",
       "      <td>4d5c57ea9a6940dd891ad53e9dbe8da0</td>\n",
       "      <td>0</td>\n",
       "      <td>0.0</td>\n",
       "      <td>10.0</td>\n",
       "      <td>1</td>\n",
       "      <td>0</td>\n",
       "      <td>0</td>\n",
       "      <td>0</td>\n",
       "      <td>33</td>\n",
       "      <td>2018-06-12</td>\n",
       "      <td>M</td>\n",
       "      <td>45000.0</td>\n",
       "      <td>0</td>\n",
       "      <td>[web, email, mobile, social]</td>\n",
       "      <td>10</td>\n",
       "      <td>5</td>\n",
       "      <td>4d5c57ea9a6940dd891ad53e9dbe8da0</td>\n",
       "      <td>bogo</td>\n",
       "      <td>10</td>\n",
       "    </tr>\n",
       "    <tr>\n",
       "      <th>8</th>\n",
       "      <td>ba1ae0413fee458f99c7f5cc13e99021</td>\n",
       "      <td>5a8bc65990b245e5a138643cd4eb9837</td>\n",
       "      <td>0</td>\n",
       "      <td>0.0</td>\n",
       "      <td>0.0</td>\n",
       "      <td>0</td>\n",
       "      <td>1</td>\n",
       "      <td>0</td>\n",
       "      <td>0</td>\n",
       "      <td>34</td>\n",
       "      <td>2018-01-16</td>\n",
       "      <td>M</td>\n",
       "      <td>50000.0</td>\n",
       "      <td>0</td>\n",
       "      <td>[email, mobile, social]</td>\n",
       "      <td>0</td>\n",
       "      <td>3</td>\n",
       "      <td>5a8bc65990b245e5a138643cd4eb9837</td>\n",
       "      <td>informational</td>\n",
       "      <td>0</td>\n",
       "    </tr>\n",
       "    <tr>\n",
       "      <th>9</th>\n",
       "      <td>ca265792e65949d79b2b0e91bdd31c57</td>\n",
       "      <td>fafdcd668e3743c1bb461111dcafc2a4</td>\n",
       "      <td>0</td>\n",
       "      <td>0.0</td>\n",
       "      <td>0.0</td>\n",
       "      <td>0</td>\n",
       "      <td>1</td>\n",
       "      <td>0</td>\n",
       "      <td>0</td>\n",
       "      <td>34</td>\n",
       "      <td>2017-07-22</td>\n",
       "      <td>F</td>\n",
       "      <td>37000.0</td>\n",
       "      <td>0</td>\n",
       "      <td>[web, email, mobile, social]</td>\n",
       "      <td>10</td>\n",
       "      <td>10</td>\n",
       "      <td>fafdcd668e3743c1bb461111dcafc2a4</td>\n",
       "      <td>discount</td>\n",
       "      <td>2</td>\n",
       "    </tr>\n",
       "  </tbody>\n",
       "</table>\n",
       "</div>"
      ],
      "text/plain": [
       "                             person                          offer_id  time  \\\n",
       "0  a5c24057de1147a798422162559bbe83  4d5c57ea9a6940dd891ad53e9dbe8da0     0   \n",
       "1  84eb11751c674c5ab910f3bebe78586d  0b1e1539f2cc45b7b9fa7c272da2e1d7     0   \n",
       "2  8dc17515545e42d9a2974a3aebc3aa69  fafdcd668e3743c1bb461111dcafc2a4     0   \n",
       "3  a5675e02cac04aefb87d21551a3dfa8c  f19421c1d4aa40978ebb69ca19b0e20d     0   \n",
       "4  3339d9d8f5ff4664bd259572330c5dbf  ae264e3637204a6fb9bb56bc8210ddfd     0   \n",
       "5  b5b17db2d0af49fe89abfd7076b605a8  2298d6c36e964ae4a3e7e9706d1fb8c2     0   \n",
       "6  60ae06998f034851b0c571f8fb4e1165  2298d6c36e964ae4a3e7e9706d1fb8c2     0   \n",
       "7  a5c24057de1147a798422162559bbe83  4d5c57ea9a6940dd891ad53e9dbe8da0     0   \n",
       "8  ba1ae0413fee458f99c7f5cc13e99021  5a8bc65990b245e5a138643cd4eb9837     0   \n",
       "9  ca265792e65949d79b2b0e91bdd31c57  fafdcd668e3743c1bb461111dcafc2a4     0   \n",
       "\n",
       "   amount  reward_x  offer completed  offer received  offer viewed  \\\n",
       "0     0.0       0.0                0               1             0   \n",
       "1     0.0       0.0                0               1             0   \n",
       "2     0.0       0.0                0               1             0   \n",
       "3     0.0       0.0                0               1             0   \n",
       "4     0.0       0.0                0               1             0   \n",
       "5     0.0       0.0                0               1             0   \n",
       "6     0.0       0.0                0               1             0   \n",
       "7     0.0      10.0                1               0             0   \n",
       "8     0.0       0.0                0               1             0   \n",
       "9     0.0       0.0                0               1             0   \n",
       "\n",
       "   transaction  age became_member_on gender   income  missing  \\\n",
       "0            0   33       2018-06-12      M  45000.0        0   \n",
       "1            0   73       2013-11-15      M  63000.0        0   \n",
       "2            0   61       2018-06-08      M  43000.0        0   \n",
       "3            0   42       2017-11-20      M  54000.0        0   \n",
       "4            0   62       2014-11-05      M  44000.0        0   \n",
       "5            0   58       2017-02-26      M  39000.0        0   \n",
       "6            0   55       2017-12-17      M  62000.0        0   \n",
       "7            0   33       2018-06-12      M  45000.0        0   \n",
       "8            0   34       2018-01-16      M  50000.0        0   \n",
       "9            0   34       2017-07-22      F  37000.0        0   \n",
       "\n",
       "                       channels  difficulty  duration  \\\n",
       "0  [web, email, mobile, social]          10         5   \n",
       "1                  [web, email]          20        10   \n",
       "2  [web, email, mobile, social]          10        10   \n",
       "3  [web, email, mobile, social]           5         5   \n",
       "4       [email, mobile, social]          10         7   \n",
       "5  [web, email, mobile, social]           7         7   \n",
       "6  [web, email, mobile, social]           7         7   \n",
       "7  [web, email, mobile, social]          10         5   \n",
       "8       [email, mobile, social]           0         3   \n",
       "9  [web, email, mobile, social]          10        10   \n",
       "\n",
       "                                 id     offer_type  reward_y  \n",
       "0  4d5c57ea9a6940dd891ad53e9dbe8da0           bogo        10  \n",
       "1  0b1e1539f2cc45b7b9fa7c272da2e1d7       discount         5  \n",
       "2  fafdcd668e3743c1bb461111dcafc2a4       discount         2  \n",
       "3  f19421c1d4aa40978ebb69ca19b0e20d           bogo         5  \n",
       "4  ae264e3637204a6fb9bb56bc8210ddfd           bogo        10  \n",
       "5  2298d6c36e964ae4a3e7e9706d1fb8c2       discount         3  \n",
       "6  2298d6c36e964ae4a3e7e9706d1fb8c2       discount         3  \n",
       "7  4d5c57ea9a6940dd891ad53e9dbe8da0           bogo        10  \n",
       "8  5a8bc65990b245e5a138643cd4eb9837  informational         0  \n",
       "9  fafdcd668e3743c1bb461111dcafc2a4       discount         2  "
      ]
     },
     "execution_count": 167,
     "metadata": {},
     "output_type": "execute_result"
    }
   ],
   "source": [
    "# Obtain the first ten rows of the merged dataset\n",
    "merge_data.head(10)"
   ]
  },
  {
   "cell_type": "code",
   "execution_count": 168,
   "metadata": {},
   "outputs": [
    {
     "data": {
      "image/png": "[encoded data removed]",
      "text/plain": [
       "<matplotlib.figure.Figure at 0x7fd1360a7e10>"
      ]
     },
     "metadata": {
      "needs_background": "light"
     },
     "output_type": "display_data"
    }
   ],
   "source": [
    "sns.distplot(merge_data['age'], color=\"#FF6600\", bins=75, hist_kws={'alpha': 0.5});"
   ]
  },
  {
   "cell_type": "code",
   "execution_count": 169,
   "metadata": {},
   "outputs": [
    {
     "data": {
      "image/png": "[encoded data removed]",
      "text/plain": [
       "<matplotlib.figure.Figure at 0x7fd1360028d0>"
      ]
     },
     "metadata": {
      "needs_background": "light"
     },
     "output_type": "display_data"
    }
   ],
   "source": [
    "sns.distplot(merge_data['income'], color=\"#66CC00\", bins=75, hist_kws={'alpha': 0.5});"
   ]
  },
  {
   "cell_type": "code",
   "execution_count": 170,
   "metadata": {},
   "outputs": [
    {
     "name": "stdout",
     "output_type": "stream",
     "text": [
      "Summary of Starbucks customer profile\n",
      "----------------------------------\n",
      "Age:  54.7777351092\n",
      "Gender:  M\n",
      "Income:  66403.1165996\n"
     ]
    }
   ],
   "source": [
    "# Print out the summary of the above sns distribution plots\n",
    "print(\"Summary of Starbucks customer profile\")\n",
    "print(\"----------------------------------\")\n",
    "print(\"Age: \", merge_data.age.mean())\n",
    "print(\"Gender:  M\")\n",
    "print(\"Income: \", merge_data.income.mean())"
   ]
  },
  {
   "cell_type": "code",
   "execution_count": 171,
   "metadata": {},
   "outputs": [],
   "source": [
    "prep_data = merge_data.groupby(['person', 'offer_type']).agg(\n",
    "    {\n",
    "        'offer completed': sum, \n",
    "        'offer received': sum,\n",
    "        'offer viewed': sum,\n",
    "        'age': 'last',\n",
    "        'became_member_on': 'last',\n",
    "        'gender': 'last',\n",
    "        'income': 'last'\n",
    "    }\n",
    ").reset_index()"
   ]
  },
  {
   "cell_type": "code",
   "execution_count": 172,
   "metadata": {},
   "outputs": [],
   "source": [
    "def trans_offer(df):\n",
    "    \n",
    "    df['bogo_received'] = 0\n",
    "    df['bogo_completed'] = 0\n",
    "\n",
    "    df['discount_received'] = 0\n",
    "    df['discount_completed'] = 0\n",
    "\n",
    "    for index, row in df.iterrows():\n",
    "        if(row['offer_type'] == 'bogo'):\n",
    "            df.loc[index, 'bogo_completed'] = row['offer completed']\n",
    "            df.loc[index, 'bogo_received'] = row['offer received']\n",
    "\n",
    "        elif(row['offer_type'] == 'discount'):\n",
    "            df.loc[index, 'discount_completed'] = row['offer completed']\n",
    "            df.loc[index, 'discount_received'] = row['offer received']\n",
    "        \n",
    "    return df.groupby(['person']).agg(\n",
    "    {\n",
    "        'age':'last',\n",
    "        'became_member_on':'last',\n",
    "        'gender':'last',\n",
    "        'income':'last', \n",
    "        'bogo_received':sum,\n",
    "        'bogo_completed':sum,\n",
    "        'discount_received':sum,\n",
    "        'discount_completed':sum,        \n",
    "    }\n",
    ").reset_index()"
   ]
  },
  {
   "cell_type": "code",
   "execution_count": 173,
   "metadata": {},
   "outputs": [],
   "source": [
    "trans_data = trans_offer(prep_data)"
   ]
  },
  {
   "cell_type": "code",
   "execution_count": 174,
   "metadata": {},
   "outputs": [
    {
     "data": {
      "text/html": [
       "<div>\n",
       "<style scoped>\n",
       "    .dataframe tbody tr th:only-of-type {\n",
       "        vertical-align: middle;\n",
       "    }\n",
       "\n",
       "    .dataframe tbody tr th {\n",
       "        vertical-align: top;\n",
       "    }\n",
       "\n",
       "    .dataframe thead th {\n",
       "        text-align: right;\n",
       "    }\n",
       "</style>\n",
       "<table border=\"1\" class=\"dataframe\">\n",
       "  <thead>\n",
       "    <tr style=\"text-align: right;\">\n",
       "      <th></th>\n",
       "      <th>person</th>\n",
       "      <th>age</th>\n",
       "      <th>became_member_on</th>\n",
       "      <th>gender</th>\n",
       "      <th>income</th>\n",
       "      <th>bogo_received</th>\n",
       "      <th>bogo_completed</th>\n",
       "      <th>discount_received</th>\n",
       "      <th>discount_completed</th>\n",
       "    </tr>\n",
       "  </thead>\n",
       "  <tbody>\n",
       "    <tr>\n",
       "      <th>0</th>\n",
       "      <td>0009655768c64bdeb2e877511632db8f</td>\n",
       "      <td>33</td>\n",
       "      <td>2017-04-21</td>\n",
       "      <td>M</td>\n",
       "      <td>72000.0</td>\n",
       "      <td>1</td>\n",
       "      <td>1</td>\n",
       "      <td>2</td>\n",
       "      <td>2</td>\n",
       "    </tr>\n",
       "    <tr>\n",
       "      <th>1</th>\n",
       "      <td>0011e0d4e6b944f998e987f904e8c1e5</td>\n",
       "      <td>40</td>\n",
       "      <td>2018-01-09</td>\n",
       "      <td>O</td>\n",
       "      <td>57000.0</td>\n",
       "      <td>1</td>\n",
       "      <td>1</td>\n",
       "      <td>2</td>\n",
       "      <td>2</td>\n",
       "    </tr>\n",
       "    <tr>\n",
       "      <th>2</th>\n",
       "      <td>0020c2b971eb4e9188eac86d93036a77</td>\n",
       "      <td>59</td>\n",
       "      <td>2016-03-04</td>\n",
       "      <td>F</td>\n",
       "      <td>90000.0</td>\n",
       "      <td>2</td>\n",
       "      <td>1</td>\n",
       "      <td>2</td>\n",
       "      <td>2</td>\n",
       "    </tr>\n",
       "    <tr>\n",
       "      <th>3</th>\n",
       "      <td>0020ccbbb6d84e358d3414a3ff76cffd</td>\n",
       "      <td>24</td>\n",
       "      <td>2016-11-11</td>\n",
       "      <td>F</td>\n",
       "      <td>60000.0</td>\n",
       "      <td>2</td>\n",
       "      <td>2</td>\n",
       "      <td>1</td>\n",
       "      <td>1</td>\n",
       "    </tr>\n",
       "    <tr>\n",
       "      <th>4</th>\n",
       "      <td>003d66b6608740288d6cc97a6903f4f0</td>\n",
       "      <td>26</td>\n",
       "      <td>2017-06-21</td>\n",
       "      <td>F</td>\n",
       "      <td>73000.0</td>\n",
       "      <td>0</td>\n",
       "      <td>0</td>\n",
       "      <td>3</td>\n",
       "      <td>3</td>\n",
       "    </tr>\n",
       "    <tr>\n",
       "      <th>5</th>\n",
       "      <td>00426fe3ffde4c6b9cb9ad6d077a13ea</td>\n",
       "      <td>19</td>\n",
       "      <td>2016-08-09</td>\n",
       "      <td>F</td>\n",
       "      <td>65000.0</td>\n",
       "      <td>0</td>\n",
       "      <td>0</td>\n",
       "      <td>4</td>\n",
       "      <td>1</td>\n",
       "    </tr>\n",
       "    <tr>\n",
       "      <th>6</th>\n",
       "      <td>004b041fbfe44859945daa2c7f79ee64</td>\n",
       "      <td>55</td>\n",
       "      <td>2018-05-08</td>\n",
       "      <td>F</td>\n",
       "      <td>74000.0</td>\n",
       "      <td>1</td>\n",
       "      <td>1</td>\n",
       "      <td>1</td>\n",
       "      <td>1</td>\n",
       "    </tr>\n",
       "    <tr>\n",
       "      <th>7</th>\n",
       "      <td>004c5799adbf42868b9cff0396190900</td>\n",
       "      <td>54</td>\n",
       "      <td>2016-03-31</td>\n",
       "      <td>M</td>\n",
       "      <td>99000.0</td>\n",
       "      <td>3</td>\n",
       "      <td>3</td>\n",
       "      <td>2</td>\n",
       "      <td>2</td>\n",
       "    </tr>\n",
       "    <tr>\n",
       "      <th>8</th>\n",
       "      <td>005500a7188546ff8a767329a2f7c76a</td>\n",
       "      <td>56</td>\n",
       "      <td>2017-12-09</td>\n",
       "      <td>M</td>\n",
       "      <td>47000.0</td>\n",
       "      <td>4</td>\n",
       "      <td>1</td>\n",
       "      <td>1</td>\n",
       "      <td>0</td>\n",
       "    </tr>\n",
       "    <tr>\n",
       "      <th>9</th>\n",
       "      <td>0056df74b63b4298809f0b375a304cf4</td>\n",
       "      <td>54</td>\n",
       "      <td>2016-08-21</td>\n",
       "      <td>M</td>\n",
       "      <td>91000.0</td>\n",
       "      <td>1</td>\n",
       "      <td>1</td>\n",
       "      <td>2</td>\n",
       "      <td>2</td>\n",
       "    </tr>\n",
       "  </tbody>\n",
       "</table>\n",
       "</div>"
      ],
      "text/plain": [
       "                             person  age became_member_on gender   income  \\\n",
       "0  0009655768c64bdeb2e877511632db8f   33       2017-04-21      M  72000.0   \n",
       "1  0011e0d4e6b944f998e987f904e8c1e5   40       2018-01-09      O  57000.0   \n",
       "2  0020c2b971eb4e9188eac86d93036a77   59       2016-03-04      F  90000.0   \n",
       "3  0020ccbbb6d84e358d3414a3ff76cffd   24       2016-11-11      F  60000.0   \n",
       "4  003d66b6608740288d6cc97a6903f4f0   26       2017-06-21      F  73000.0   \n",
       "5  00426fe3ffde4c6b9cb9ad6d077a13ea   19       2016-08-09      F  65000.0   \n",
       "6  004b041fbfe44859945daa2c7f79ee64   55       2018-05-08      F  74000.0   \n",
       "7  004c5799adbf42868b9cff0396190900   54       2016-03-31      M  99000.0   \n",
       "8  005500a7188546ff8a767329a2f7c76a   56       2017-12-09      M  47000.0   \n",
       "9  0056df74b63b4298809f0b375a304cf4   54       2016-08-21      M  91000.0   \n",
       "\n",
       "   bogo_received  bogo_completed  discount_received  discount_completed  \n",
       "0              1               1                  2                   2  \n",
       "1              1               1                  2                   2  \n",
       "2              2               1                  2                   2  \n",
       "3              2               2                  1                   1  \n",
       "4              0               0                  3                   3  \n",
       "5              0               0                  4                   1  \n",
       "6              1               1                  1                   1  \n",
       "7              3               3                  2                   2  \n",
       "8              4               1                  1                   0  \n",
       "9              1               1                  2                   2  "
      ]
     },
     "execution_count": 174,
     "metadata": {},
     "output_type": "execute_result"
    }
   ],
   "source": [
    "trans_data.head(10)"
   ]
  },
  {
   "cell_type": "code",
   "execution_count": 175,
   "metadata": {},
   "outputs": [],
   "source": [
    "# create colunms with the percentage of each offer\n",
    "trans_data['bogo_percentage'] = trans_data.bogo_completed.div(trans_data.bogo_received.where(trans_data.bogo_received != 0, np.nan))*100\n",
    "trans_data['discount_percentage'] = trans_data.discount_completed.div(trans_data.discount_received.where(trans_data.discount_received != 0, np.nan))*100"
   ]
  },
  {
   "cell_type": "code",
   "execution_count": 176,
   "metadata": {},
   "outputs": [],
   "source": [
    "trans_data.fillna(0, inplace=True)"
   ]
  },
  {
   "cell_type": "code",
   "execution_count": 177,
   "metadata": {},
   "outputs": [
    {
     "data": {
      "text/plain": [
       "person                 0\n",
       "age                    0\n",
       "became_member_on       0\n",
       "gender                 0\n",
       "income                 0\n",
       "bogo_received          0\n",
       "bogo_completed         0\n",
       "discount_received      0\n",
       "discount_completed     0\n",
       "bogo_percentage        0\n",
       "discount_percentage    0\n",
       "dtype: int64"
      ]
     },
     "execution_count": 177,
     "metadata": {},
     "output_type": "execute_result"
    }
   ],
   "source": [
    "trans_data.isna().sum()"
   ]
  },
  {
   "cell_type": "code",
   "execution_count": 178,
   "metadata": {},
   "outputs": [],
   "source": [
    "trans_data['bogo_offer'] = 0\n",
    "trans_data['discount_offer'] = 0\n",
    "\n",
    "for i, row in trans_data.iterrows():\n",
    "\n",
    "    if(row['bogo_percentage'] >= 80):\n",
    "        trans_data.loc[i, 'bogo_offer'] = 1\n",
    "        \n",
    "    if(row['discount_percentage'] >= 80):\n",
    "        trans_data.loc[i, 'discount_offer'] = 1"
   ]
  },
  {
   "cell_type": "code",
   "execution_count": 179,
   "metadata": {},
   "outputs": [
    {
     "data": {
      "image/png": "[encoded data removed]",
      "text/plain": [
       "<matplotlib.figure.Figure at 0x7fd135fe0a20>"
      ]
     },
     "metadata": {
      "needs_background": "light"
     },
     "output_type": "display_data"
    }
   ],
   "source": [
    "sns.distplot(trans_data['age'], color=\"#FF6600\", bins=75, hist_kws={'alpha': 0.5});"
   ]
  },
  {
   "cell_type": "code",
   "execution_count": 180,
   "metadata": {},
   "outputs": [
    {
     "data": {
      "image/png": "[encoded data removed]",
      "text/plain": [
       "<matplotlib.figure.Figure at 0x7fd136021668>"
      ]
     },
     "metadata": {
      "needs_background": "light"
     },
     "output_type": "display_data"
    }
   ],
   "source": [
    "sns.distplot(trans_data['income'], color=\"#66CC00\", bins=75, hist_kws={'alpha': 0.5});"
   ]
  },
  {
   "cell_type": "code",
   "execution_count": 181,
   "metadata": {},
   "outputs": [
    {
     "name": "stdout",
     "output_type": "stream",
     "text": [
      "Summary of Starbucks customer profile\n",
      "----------------------------------\n",
      "Age:  54.3890688259\n",
      "Gender:  M\n",
      "Income:  65406.8825911\n"
     ]
    }
   ],
   "source": [
    "# Print out the summary of the above sns distribution plots\n",
    "print(\"Summary of Starbucks customer profile\")\n",
    "print(\"----------------------------------\")\n",
    "print(\"Age: \", trans_data.age.mean())\n",
    "print(\"Gender:  M\")\n",
    "print(\"Income: \", trans_data.income.mean())"
   ]
  },
  {
   "cell_type": "markdown",
   "metadata": {},
   "source": [
    "<P>The customer data is mostly unchanged from what it was previously.  The age is the same, but the income was 66403 in the merged data, versus 65406 in the trans data.</P>"
   ]
  },
  {
   "cell_type": "markdown",
   "metadata": {},
   "source": [
    "<H2>Data Modeling</H2>"
   ]
  },
  {
   "cell_type": "code",
   "execution_count": 182,
   "metadata": {},
   "outputs": [],
   "source": [
    "model_data = trans_data.copy()\n",
    "model_data['year'] = model_data.became_member_on.dt.year\n",
    "model_data['month'] = model_data.became_member_on.dt.month"
   ]
  },
  {
   "cell_type": "code",
   "execution_count": 183,
   "metadata": {},
   "outputs": [],
   "source": [
    "model_data = model_data[['age', 'gender', 'income', 'year', 'month', 'discount_offer', 'bogo_offer']]"
   ]
  },
  {
   "cell_type": "code",
   "execution_count": 184,
   "metadata": {},
   "outputs": [],
   "source": [
    "dummy_data = pd.get_dummies(model_data, columns=['gender'])"
   ]
  },
  {
   "cell_type": "code",
   "execution_count": 185,
   "metadata": {},
   "outputs": [],
   "source": [
    "x = dummy_data.drop(columns=['discount_offer', 'bogo_offer'])\n",
    "y_bogo = dummy_data.bogo_offer\n",
    "y_discount = dummy_data.discount_offer"
   ]
  },
  {
   "cell_type": "code",
   "execution_count": 186,
   "metadata": {},
   "outputs": [
    {
     "name": "stdout",
     "output_type": "stream",
     "text": [
      "Training set: 11115 rows\n",
      "Testing set: 3705 rows\n"
     ]
    }
   ],
   "source": [
    "X_train, X_test, y_bogo_train, y_bogo_test = train_test_split(x, y_bogo, random_state=50)\n",
    "\n",
    "print(\"Training set: {} rows\".format(X_train.shape[0]))\n",
    "print(\"Testing set: {} rows\".format(X_test.shape[0]))"
   ]
  },
  {
   "cell_type": "code",
   "execution_count": 187,
   "metadata": {},
   "outputs": [
    {
     "name": "stdout",
     "output_type": "stream",
     "text": [
      "Training set: 11115 rows\n",
      "Testing set: 3705 rows\n"
     ]
    }
   ],
   "source": [
    "X_train, X_test, y_discount_train, y_discount_test = train_test_split(x, y_discount, random_state=50)\n",
    "\n",
    "print(\"Training set: {} rows\".format(X_train.shape[0]))\n",
    "print(\"Testing set: {} rows\".format(X_test.shape[0]))"
   ]
  },
  {
   "cell_type": "code",
   "execution_count": 188,
   "metadata": {},
   "outputs": [
    {
     "data": {
      "text/plain": [
       "KNeighborsClassifier(algorithm='auto', leaf_size=30, metric='minkowski',\n",
       "           metric_params=None, n_jobs=1, n_neighbors=5, p=2,\n",
       "           weights='uniform')"
      ]
     },
     "execution_count": 188,
     "metadata": {},
     "output_type": "execute_result"
    }
   ],
   "source": [
    "# KNearestNeighbor Classifier\n",
    "knn_bogo = KNeighborsClassifier(n_neighbors = 5)\n",
    "knn_discount = KNeighborsClassifier(n_neighbors = 5)\n",
    "knn_bogo.fit(X_train, y_bogo_train)\n",
    "knn_discount.fit(X_train, y_discount_train)"
   ]
  },
  {
   "cell_type": "code",
   "execution_count": 189,
   "metadata": {},
   "outputs": [],
   "source": [
    "# Setting up the K-Nearest Neighbors values for Train and Test\n",
    "knn_bogo_score_train = round((knn_bogo.score(X_train, y_discount_train)), 4)\n",
    "knn_bogo_score_test = round((knn_bogo.score(X_test, y_discount_test)), 4)\n",
    "knn_discount_score_train = round((knn_discount.score(X_train, y_discount_train)), 4)\n",
    "knn_discount_score_test = round((knn_discount.score(X_test, y_discount_test)), 4)\n",
    "\n",
    "knn = { 'BOGO Train F1':[knn_bogo_score_train],\n",
    "        'BOGO Test F1':[knn_bogo_score_test],\n",
    "        'Discount Train F1':[knn_discount_score_train],\n",
    "        'Discount Test F1':[knn_discount_score_test]\n",
    "      }\n",
    "\n",
    "KNNSummary = pd.DataFrame(knn)"
   ]
  },
  {
   "cell_type": "code",
   "execution_count": 190,
   "metadata": {},
   "outputs": [
    {
     "data": {
      "text/html": [
       "<div>\n",
       "<style scoped>\n",
       "    .dataframe tbody tr th:only-of-type {\n",
       "        vertical-align: middle;\n",
       "    }\n",
       "\n",
       "    .dataframe tbody tr th {\n",
       "        vertical-align: top;\n",
       "    }\n",
       "\n",
       "    .dataframe thead th {\n",
       "        text-align: right;\n",
       "    }\n",
       "</style>\n",
       "<table border=\"1\" class=\"dataframe\">\n",
       "  <thead>\n",
       "    <tr style=\"text-align: right;\">\n",
       "      <th></th>\n",
       "      <th>BOGO Train F1</th>\n",
       "      <th>BOGO Test F1</th>\n",
       "      <th>Discount Train F1</th>\n",
       "      <th>Discount Test F1</th>\n",
       "    </tr>\n",
       "  </thead>\n",
       "  <tbody>\n",
       "    <tr>\n",
       "      <th>0</th>\n",
       "      <td>0.5919</td>\n",
       "      <td>0.549</td>\n",
       "      <td>0.7133</td>\n",
       "      <td>0.5314</td>\n",
       "    </tr>\n",
       "  </tbody>\n",
       "</table>\n",
       "</div>"
      ],
      "text/plain": [
       "   BOGO Train F1  BOGO Test F1  Discount Train F1  Discount Test F1\n",
       "0         0.5919         0.549             0.7133            0.5314"
      ]
     },
     "execution_count": 190,
     "metadata": {},
     "output_type": "execute_result"
    }
   ],
   "source": [
    "# Display the results for K-Nearest Neighbors\n",
    "KNNSummary"
   ]
  },
  {
   "cell_type": "code",
   "execution_count": 191,
   "metadata": {},
   "outputs": [
    {
     "data": {
      "text/plain": [
       "GaussianNB(priors=None)"
      ]
     },
     "execution_count": 191,
     "metadata": {},
     "output_type": "execute_result"
    }
   ],
   "source": [
    "# GaussianNB Classifier\n",
    "gauss_bogo = GaussianNB()\n",
    "gauss_discount = GaussianNB()\n",
    "gauss_bogo.fit(X_train, y_bogo_train)\n",
    "gauss_discount.fit(X_train, y_discount_train)"
   ]
  },
  {
   "cell_type": "code",
   "execution_count": 192,
   "metadata": {},
   "outputs": [],
   "source": [
    "# Setting up the Gaussian NB values for Train and Test\n",
    "gauss_bogo_score_train = round((gauss_bogo.score(X_train, y_discount_train)), 4)\n",
    "gauss_bogo_score_test = round((gauss_bogo.score(X_test, y_discount_test)), 4)\n",
    "gauss_discount_score_train = round((gauss_discount.score(X_train, y_discount_train)), 4)\n",
    "gauss_discount_score_test = round((gauss_discount.score(X_test, y_discount_test)), 4)\n",
    "\n",
    "gauss = { 'BOGO Train F1':[gauss_bogo_score_train],\n",
    "          'BOGO Test F1':[gauss_bogo_score_test],\n",
    "          'Discount Train F1':[gauss_discount_score_train],\n",
    "          'Discount Test F1':[gauss_discount_score_test]\n",
    "      }\n",
    "\n",
    "gaussSummary = pd.DataFrame(gauss)"
   ]
  },
  {
   "cell_type": "code",
   "execution_count": 193,
   "metadata": {},
   "outputs": [
    {
     "data": {
      "text/html": [
       "<div>\n",
       "<style scoped>\n",
       "    .dataframe tbody tr th:only-of-type {\n",
       "        vertical-align: middle;\n",
       "    }\n",
       "\n",
       "    .dataframe tbody tr th {\n",
       "        vertical-align: top;\n",
       "    }\n",
       "\n",
       "    .dataframe thead th {\n",
       "        text-align: right;\n",
       "    }\n",
       "</style>\n",
       "<table border=\"1\" class=\"dataframe\">\n",
       "  <thead>\n",
       "    <tr style=\"text-align: right;\">\n",
       "      <th></th>\n",
       "      <th>BOGO Train F1</th>\n",
       "      <th>BOGO Test F1</th>\n",
       "      <th>Discount Train F1</th>\n",
       "      <th>Discount Test F1</th>\n",
       "    </tr>\n",
       "  </thead>\n",
       "  <tbody>\n",
       "    <tr>\n",
       "      <th>0</th>\n",
       "      <td>0.5973</td>\n",
       "      <td>0.6057</td>\n",
       "      <td>0.6167</td>\n",
       "      <td>0.6227</td>\n",
       "    </tr>\n",
       "  </tbody>\n",
       "</table>\n",
       "</div>"
      ],
      "text/plain": [
       "   BOGO Train F1  BOGO Test F1  Discount Train F1  Discount Test F1\n",
       "0         0.5973        0.6057             0.6167            0.6227"
      ]
     },
     "execution_count": 193,
     "metadata": {},
     "output_type": "execute_result"
    }
   ],
   "source": [
    "# Display the results for Gaussian NB\n",
    "gaussSummary"
   ]
  },
  {
   "cell_type": "code",
   "execution_count": 194,
   "metadata": {},
   "outputs": [
    {
     "data": {
      "text/plain": [
       "SVC(C=1.0, cache_size=200, class_weight=None, coef0=0.0,\n",
       "  decision_function_shape='ovr', degree=3, gamma='auto', kernel='rbf',\n",
       "  max_iter=-1, probability=False, random_state=None, shrinking=True,\n",
       "  tol=0.001, verbose=False)"
      ]
     },
     "execution_count": 194,
     "metadata": {},
     "output_type": "execute_result"
    }
   ],
   "source": [
    "# Support Vector Machine Classifier\n",
    "svc_bogo = SVC()\n",
    "svc_discount = SVC()\n",
    "svc_bogo.fit(X_train, y_bogo_train)\n",
    "svc_discount.fit(X_train, y_discount_train)"
   ]
  },
  {
   "cell_type": "code",
   "execution_count": 195,
   "metadata": {},
   "outputs": [],
   "source": [
    "# Setting up the Support Vector values for Train and Test\n",
    "svc_bogo_score_train = round((svc_bogo.score(X_train, y_discount_train)), 4)\n",
    "svc_bogo_score_test = round((svc_bogo.score(X_test, y_discount_test)), 4)\n",
    "svc_discount_score_train = round((svc_discount.score(X_train, y_discount_train)), 4)\n",
    "svc_discount_score_test = round((svc_discount.score(X_test, y_discount_test)), 4)\n",
    "\n",
    "svc = { 'BOGO Train F1':[svc_bogo_score_train],\n",
    "        'BOGO Test F1':[svc_bogo_score_test],\n",
    "        'Discount Train F1':[svc_discount_score_train],\n",
    "        'Discount Test F1':[svc_discount_score_test]\n",
    "      }\n",
    "svcSummary = pd.DataFrame(svc)"
   ]
  },
  {
   "cell_type": "code",
   "execution_count": 196,
   "metadata": {},
   "outputs": [
    {
     "data": {
      "text/html": [
       "<div>\n",
       "<style scoped>\n",
       "    .dataframe tbody tr th:only-of-type {\n",
       "        vertical-align: middle;\n",
       "    }\n",
       "\n",
       "    .dataframe tbody tr th {\n",
       "        vertical-align: top;\n",
       "    }\n",
       "\n",
       "    .dataframe thead th {\n",
       "        text-align: right;\n",
       "    }\n",
       "</style>\n",
       "<table border=\"1\" class=\"dataframe\">\n",
       "  <thead>\n",
       "    <tr style=\"text-align: right;\">\n",
       "      <th></th>\n",
       "      <th>BOGO Train F1</th>\n",
       "      <th>BOGO Test F1</th>\n",
       "      <th>Discount Train F1</th>\n",
       "      <th>Discount Test F1</th>\n",
       "    </tr>\n",
       "  </thead>\n",
       "  <tbody>\n",
       "    <tr>\n",
       "      <th>0</th>\n",
       "      <td>0.6301</td>\n",
       "      <td>0.5511</td>\n",
       "      <td>0.8956</td>\n",
       "      <td>0.5363</td>\n",
       "    </tr>\n",
       "  </tbody>\n",
       "</table>\n",
       "</div>"
      ],
      "text/plain": [
       "   BOGO Train F1  BOGO Test F1  Discount Train F1  Discount Test F1\n",
       "0         0.6301        0.5511             0.8956            0.5363"
      ]
     },
     "execution_count": 196,
     "metadata": {},
     "output_type": "execute_result"
    }
   ],
   "source": [
    "# Display the results for Support Vector\n",
    "svcSummary"
   ]
  },
  {
   "cell_type": "code",
   "execution_count": 197,
   "metadata": {},
   "outputs": [
    {
     "data": {
      "text/plain": [
       "AdaBoostClassifier(algorithm='SAMME.R', base_estimator=None,\n",
       "          learning_rate=1.0, n_estimators=50, random_state=None)"
      ]
     },
     "execution_count": 197,
     "metadata": {},
     "output_type": "execute_result"
    }
   ],
   "source": [
    "# Ada Boost Classifier\n",
    "ada_bogo = AdaBoostClassifier()\n",
    "ada_discount = AdaBoostClassifier()\n",
    "ada_bogo.fit(X_train, y_bogo_train)\n",
    "ada_discount.fit(X_train, y_discount_train)"
   ]
  },
  {
   "cell_type": "code",
   "execution_count": 198,
   "metadata": {},
   "outputs": [],
   "source": [
    "# Setting up the AdaBoost values for Train and Test\n",
    "ada_bogo_score_train = round((ada_bogo.score(X_train, y_discount_train)), 4)\n",
    "ada_bogo_score_test = round((ada_bogo.score(X_test, y_discount_test)), 4)\n",
    "ada_discount_score_train = round((ada_discount.score(X_train, y_discount_train)), 4)\n",
    "ada_discount_score_test = round((ada_discount.score(X_test, y_discount_test)), 4)\n",
    "\n",
    "ada = { 'BOGO Train F1':[ada_bogo_score_train],\n",
    "        'BOGO Test F1':[ada_bogo_score_test],\n",
    "        'Discount Train F1':[ada_discount_score_train],\n",
    "        'Discount Test F1':[ada_discount_score_test]\n",
    "      }\n",
    "adaSummary = pd.DataFrame(ada)"
   ]
  },
  {
   "cell_type": "code",
   "execution_count": 199,
   "metadata": {},
   "outputs": [
    {
     "data": {
      "text/html": [
       "<div>\n",
       "<style scoped>\n",
       "    .dataframe tbody tr th:only-of-type {\n",
       "        vertical-align: middle;\n",
       "    }\n",
       "\n",
       "    .dataframe tbody tr th {\n",
       "        vertical-align: top;\n",
       "    }\n",
       "\n",
       "    .dataframe thead th {\n",
       "        text-align: right;\n",
       "    }\n",
       "</style>\n",
       "<table border=\"1\" class=\"dataframe\">\n",
       "  <thead>\n",
       "    <tr style=\"text-align: right;\">\n",
       "      <th></th>\n",
       "      <th>BOGO Train F1</th>\n",
       "      <th>BOGO Test F1</th>\n",
       "      <th>Discount Train F1</th>\n",
       "      <th>Discount Test F1</th>\n",
       "    </tr>\n",
       "  </thead>\n",
       "  <tbody>\n",
       "    <tr>\n",
       "      <th>0</th>\n",
       "      <td>0.6366</td>\n",
       "      <td>0.6394</td>\n",
       "      <td>0.658</td>\n",
       "      <td>0.6462</td>\n",
       "    </tr>\n",
       "  </tbody>\n",
       "</table>\n",
       "</div>"
      ],
      "text/plain": [
       "   BOGO Train F1  BOGO Test F1  Discount Train F1  Discount Test F1\n",
       "0         0.6366        0.6394              0.658            0.6462"
      ]
     },
     "execution_count": 199,
     "metadata": {},
     "output_type": "execute_result"
    }
   ],
   "source": [
    "# Display the AdaBoost results\n",
    "adaSummary"
   ]
  },
  {
   "cell_type": "code",
   "execution_count": 200,
   "metadata": {},
   "outputs": [
    {
     "data": {
      "text/plain": [
       "RandomForestClassifier(bootstrap=True, class_weight=None, criterion='gini',\n",
       "            max_depth=None, max_features='auto', max_leaf_nodes=None,\n",
       "            min_impurity_decrease=0.0, min_impurity_split=None,\n",
       "            min_samples_leaf=1, min_samples_split=2,\n",
       "            min_weight_fraction_leaf=0.0, n_estimators=10, n_jobs=1,\n",
       "            oob_score=False, random_state=10, verbose=0, warm_start=False)"
      ]
     },
     "execution_count": 200,
     "metadata": {},
     "output_type": "execute_result"
    }
   ],
   "source": [
    "# Random Forest Classifier\n",
    "rfc_bogo = RandomForestClassifier(random_state = 10)\n",
    "rfc_discount = RandomForestClassifier(random_state = 10)\n",
    "rfc_bogo.fit(X_train, y_bogo_train)\n",
    "rfc_discount.fit(X_train, y_discount_train)"
   ]
  },
  {
   "cell_type": "code",
   "execution_count": 201,
   "metadata": {},
   "outputs": [],
   "source": [
    "# Setting up the Random Forest values for Train and Test\n",
    "rfc_bogo_score_train = round((rfc_bogo.score(X_train, y_discount_train)), 4)\n",
    "rfc_bogo_score_test = round((rfc_bogo.score(X_test, y_discount_test)), 4)\n",
    "rfc_discount_score_train = round((rfc_discount.score(X_train, y_discount_train)), 4)\n",
    "rfc_discount_score_test = round((rfc_discount.score(X_test, y_discount_test)), 4)\n",
    "\n",
    "rfc = { 'BOGO Train F1':[rfc_bogo_score_train],\n",
    "        'BOGO Test F1':[rfc_bogo_score_test],\n",
    "        'Discount Train F1':[rfc_discount_score_train],\n",
    "        'Discount Test F1':[rfc_discount_score_test]\n",
    "      }\n",
    "rfcSummary = pd.DataFrame(rfc)"
   ]
  },
  {
   "cell_type": "code",
   "execution_count": 202,
   "metadata": {},
   "outputs": [
    {
     "data": {
      "text/html": [
       "<div>\n",
       "<style scoped>\n",
       "    .dataframe tbody tr th:only-of-type {\n",
       "        vertical-align: middle;\n",
       "    }\n",
       "\n",
       "    .dataframe tbody tr th {\n",
       "        vertical-align: top;\n",
       "    }\n",
       "\n",
       "    .dataframe thead th {\n",
       "        text-align: right;\n",
       "    }\n",
       "</style>\n",
       "<table border=\"1\" class=\"dataframe\">\n",
       "  <thead>\n",
       "    <tr style=\"text-align: right;\">\n",
       "      <th></th>\n",
       "      <th>BOGO Train F1</th>\n",
       "      <th>BOGO Test F1</th>\n",
       "      <th>Discount Train F1</th>\n",
       "      <th>Discount Test F1</th>\n",
       "    </tr>\n",
       "  </thead>\n",
       "  <tbody>\n",
       "    <tr>\n",
       "      <th>0</th>\n",
       "      <td>0.6582</td>\n",
       "      <td>0.6062</td>\n",
       "      <td>0.9655</td>\n",
       "      <td>0.6016</td>\n",
       "    </tr>\n",
       "  </tbody>\n",
       "</table>\n",
       "</div>"
      ],
      "text/plain": [
       "   BOGO Train F1  BOGO Test F1  Discount Train F1  Discount Test F1\n",
       "0         0.6582        0.6062             0.9655            0.6016"
      ]
     },
     "execution_count": 202,
     "metadata": {},
     "output_type": "execute_result"
    }
   ],
   "source": [
    "# Display the Random Forest results\n",
    "rfcSummary"
   ]
  },
  {
   "cell_type": "code",
   "execution_count": 203,
   "metadata": {},
   "outputs": [
    {
     "data": {
      "text/plain": [
       "DecisionTreeClassifier(class_weight=None, criterion='gini', max_depth=None,\n",
       "            max_features=None, max_leaf_nodes=None,\n",
       "            min_impurity_decrease=0.0, min_impurity_split=None,\n",
       "            min_samples_leaf=1, min_samples_split=2,\n",
       "            min_weight_fraction_leaf=0.0, presort=False, random_state=10,\n",
       "            splitter='best')"
      ]
     },
     "execution_count": 203,
     "metadata": {},
     "output_type": "execute_result"
    }
   ],
   "source": [
    "# Decision Tree Classifier\n",
    "dtc_bogo = DecisionTreeClassifier(random_state = 10)\n",
    "dtc_discount = DecisionTreeClassifier(random_state = 10)\n",
    "dtc_bogo.fit(X_train, y_bogo_train)\n",
    "dtc_discount.fit(X_train, y_discount_train)"
   ]
  },
  {
   "cell_type": "code",
   "execution_count": 204,
   "metadata": {},
   "outputs": [],
   "source": [
    "# Setting up the Decision Tree values for Train and Test\n",
    "dtc_bogo_score_train = round((dtc_bogo.score(X_train, y_discount_train)), 4)\n",
    "dtc_bogo_score_test = round((dtc_bogo.score(X_test, y_discount_test)), 4)\n",
    "dtc_discount_score_train = round((dtc_discount.score(X_train, y_discount_train)), 4)\n",
    "dtc_discount_score_test = round((dtc_discount.score(X_test, y_discount_test)), 4)\n",
    "\n",
    "dtc = { 'BOGO Train F1':[dtc_bogo_score_train],\n",
    "        'BOGO Test F1':[dtc_bogo_score_test],\n",
    "        'Discount Train F1':[dtc_discount_score_train],\n",
    "        'Discount Test F1':[dtc_discount_score_test]\n",
    "      }\n",
    "dtcSummary = pd.DataFrame(dtc)"
   ]
  },
  {
   "cell_type": "code",
   "execution_count": 205,
   "metadata": {},
   "outputs": [
    {
     "data": {
      "text/html": [
       "<div>\n",
       "<style scoped>\n",
       "    .dataframe tbody tr th:only-of-type {\n",
       "        vertical-align: middle;\n",
       "    }\n",
       "\n",
       "    .dataframe tbody tr th {\n",
       "        vertical-align: top;\n",
       "    }\n",
       "\n",
       "    .dataframe thead th {\n",
       "        text-align: right;\n",
       "    }\n",
       "</style>\n",
       "<table border=\"1\" class=\"dataframe\">\n",
       "  <thead>\n",
       "    <tr style=\"text-align: right;\">\n",
       "      <th></th>\n",
       "      <th>BOGO Train F1</th>\n",
       "      <th>BOGO Test F1</th>\n",
       "      <th>Discount Train F1</th>\n",
       "      <th>Discount Test F1</th>\n",
       "    </tr>\n",
       "  </thead>\n",
       "  <tbody>\n",
       "    <tr>\n",
       "      <th>0</th>\n",
       "      <td>0.6627</td>\n",
       "      <td>0.5695</td>\n",
       "      <td>0.9913</td>\n",
       "      <td>0.5727</td>\n",
       "    </tr>\n",
       "  </tbody>\n",
       "</table>\n",
       "</div>"
      ],
      "text/plain": [
       "   BOGO Train F1  BOGO Test F1  Discount Train F1  Discount Test F1\n",
       "0         0.6627        0.5695             0.9913            0.5727"
      ]
     },
     "execution_count": 205,
     "metadata": {},
     "output_type": "execute_result"
    }
   ],
   "source": [
    "# Display the Decision Tree results\n",
    "dtcSummary"
   ]
  },
  {
   "cell_type": "code",
   "execution_count": 206,
   "metadata": {},
   "outputs": [
    {
     "data": {
      "text/html": [
       "<div>\n",
       "<style scoped>\n",
       "    .dataframe tbody tr th:only-of-type {\n",
       "        vertical-align: middle;\n",
       "    }\n",
       "\n",
       "    .dataframe tbody tr th {\n",
       "        vertical-align: top;\n",
       "    }\n",
       "\n",
       "    .dataframe thead th {\n",
       "        text-align: right;\n",
       "    }\n",
       "</style>\n",
       "<table border=\"1\" class=\"dataframe\">\n",
       "  <thead>\n",
       "    <tr style=\"text-align: right;\">\n",
       "      <th></th>\n",
       "      <th>Model</th>\n",
       "      <th>Train F1</th>\n",
       "      <th>Test F1</th>\n",
       "    </tr>\n",
       "  </thead>\n",
       "  <tbody>\n",
       "    <tr>\n",
       "      <th>0</th>\n",
       "      <td>K-Nearest Neighbors</td>\n",
       "      <td>0.5919</td>\n",
       "      <td>0.5490</td>\n",
       "    </tr>\n",
       "    <tr>\n",
       "      <th>1</th>\n",
       "      <td>Gaussian NB</td>\n",
       "      <td>0.5973</td>\n",
       "      <td>0.6057</td>\n",
       "    </tr>\n",
       "    <tr>\n",
       "      <th>2</th>\n",
       "      <td>Support Vector</td>\n",
       "      <td>0.6301</td>\n",
       "      <td>0.5511</td>\n",
       "    </tr>\n",
       "    <tr>\n",
       "      <th>3</th>\n",
       "      <td>AdaBoost</td>\n",
       "      <td>0.6366</td>\n",
       "      <td>0.6394</td>\n",
       "    </tr>\n",
       "    <tr>\n",
       "      <th>4</th>\n",
       "      <td>Random Forest</td>\n",
       "      <td>0.6582</td>\n",
       "      <td>0.6062</td>\n",
       "    </tr>\n",
       "    <tr>\n",
       "      <th>5</th>\n",
       "      <td>Decision Tree</td>\n",
       "      <td>0.6627</td>\n",
       "      <td>0.5695</td>\n",
       "    </tr>\n",
       "  </tbody>\n",
       "</table>\n",
       "</div>"
      ],
      "text/plain": [
       "                 Model  Train F1  Test F1\n",
       "0  K-Nearest Neighbors    0.5919   0.5490\n",
       "1          Gaussian NB    0.5973   0.6057\n",
       "2       Support Vector    0.6301   0.5511\n",
       "3             AdaBoost    0.6366   0.6394\n",
       "4        Random Forest    0.6582   0.6062\n",
       "5        Decision Tree    0.6627   0.5695"
      ]
     },
     "execution_count": 206,
     "metadata": {},
     "output_type": "execute_result"
    }
   ],
   "source": [
    "# Create a summary of the Train and Test data for BOGO\n",
    "bogo_classifier = ['K-Nearest Neighbors',\n",
    "                   'Gaussian NB',\n",
    "                   'Support Vector',\n",
    "                   'AdaBoost',\n",
    "                   'Random Forest',\n",
    "                   'Decision Tree']\n",
    "\n",
    "bogo_data_train = [knn_bogo_score_train, gauss_bogo_score_train, svc_bogo_score_train, ada_bogo_score_train,\n",
    "                   rfc_bogo_score_train, dtc_bogo_score_train]\n",
    "bogo_data_test = [knn_bogo_score_test, gauss_bogo_score_test, svc_bogo_score_test, ada_bogo_score_test,\n",
    "                  rfc_bogo_score_test, dtc_bogo_score_test]\n",
    "\n",
    "# Define the BOGO dataframe\n",
    "bogo_summary = pd.DataFrame({'Model': bogo_classifier,\n",
    "                             'Train F1': bogo_data_train,\n",
    "                             'Test F1': bogo_data_test})\n",
    "\n",
    "# Print the BOGO dataframe\n",
    "bogo_summary"
   ]
  },
  {
   "cell_type": "code",
   "execution_count": 207,
   "metadata": {},
   "outputs": [
    {
     "data": {
      "image/png": "[encoded data removed]",
      "text/plain": [
       "<matplotlib.figure.Figure at 0x7fd135f874e0>"
      ]
     },
     "metadata": {
      "needs_background": "light"
     },
     "output_type": "display_data"
    }
   ],
   "source": [
    "# This code plots the graph for the BOGO classifier model values for  K-Nearest Neighbors, Gaussian NB,\n",
    "# Support Vector, AdaBoost, Random Forest, and Decision Tree\n",
    "\n",
    "x1_pos = np.arange(len(bogo_classifier))\n",
    "width = 0.25\n",
    "\n",
    "fig, ax = plt.subplots()\n",
    "bogo_train_rects = ax.bar(x1_pos - width/2, bogo_data_train, width, color='#FFFF66', label='Train')\n",
    "bogo_test_rects = ax.bar(x1_pos + width/2, bogo_data_test, width, color='#3399CC', label='Test')\n",
    "\n",
    "ax.set_title('BOGO Train and Test results for K-Nearest Neighbors, Gaussian NB, Support Vector, AdaBoost, Random Forest, and Decision Tree', fontsize=15)\n",
    "ax.set_ylabel('Score', fontsize=16)\n",
    "ax.set_xlabel('Classifier', fontsize=16)\n",
    "\n",
    "ax.set_xticks(x1_pos)\n",
    "ax.set_xticklabels(bogo_classifier)\n",
    "fig.set_size_inches(16.0, 12.0)\n",
    "plt.rcParams.update({'font.size': 12})\n",
    "ax.legend()\n",
    "\n",
    "# Function to generate labels on top of the bars\n",
    "def gen_label(rects):\n",
    "    \"\"\"Attach a text label above each bar in *rects*, displaying its height.\"\"\"\n",
    "    for rect in rects:\n",
    "        height = rect.get_height()\n",
    "        ax.annotate('{}'.format(height),\n",
    "                    xy=(rect.get_x() + rect.get_width() / 2, height),\n",
    "                    xytext=(0, 3),  # 3 points vertical offset\n",
    "                    textcoords=\"offset points\",\n",
    "                    ha='center', va='bottom')\n",
    "\n",
    "# Generate the labels\n",
    "gen_label(bogo_train_rects)\n",
    "gen_label(bogo_test_rects)\n",
    "\n",
    "fig.tight_layout()\n",
    "\n",
    "plt.show()"
   ]
  },
  {
   "cell_type": "code",
   "execution_count": 208,
   "metadata": {},
   "outputs": [
    {
     "data": {
      "text/html": [
       "<div>\n",
       "<style scoped>\n",
       "    .dataframe tbody tr th:only-of-type {\n",
       "        vertical-align: middle;\n",
       "    }\n",
       "\n",
       "    .dataframe tbody tr th {\n",
       "        vertical-align: top;\n",
       "    }\n",
       "\n",
       "    .dataframe thead th {\n",
       "        text-align: right;\n",
       "    }\n",
       "</style>\n",
       "<table border=\"1\" class=\"dataframe\">\n",
       "  <thead>\n",
       "    <tr style=\"text-align: right;\">\n",
       "      <th></th>\n",
       "      <th>Model</th>\n",
       "      <th>Train F1</th>\n",
       "      <th>Test F1</th>\n",
       "    </tr>\n",
       "  </thead>\n",
       "  <tbody>\n",
       "    <tr>\n",
       "      <th>0</th>\n",
       "      <td>K-Nearest Neighbors</td>\n",
       "      <td>0.7133</td>\n",
       "      <td>0.5314</td>\n",
       "    </tr>\n",
       "    <tr>\n",
       "      <th>1</th>\n",
       "      <td>Gaussian NB</td>\n",
       "      <td>0.6167</td>\n",
       "      <td>0.6227</td>\n",
       "    </tr>\n",
       "    <tr>\n",
       "      <th>2</th>\n",
       "      <td>Support Vector</td>\n",
       "      <td>0.8956</td>\n",
       "      <td>0.5363</td>\n",
       "    </tr>\n",
       "    <tr>\n",
       "      <th>3</th>\n",
       "      <td>AdaBoost</td>\n",
       "      <td>0.6580</td>\n",
       "      <td>0.6462</td>\n",
       "    </tr>\n",
       "    <tr>\n",
       "      <th>4</th>\n",
       "      <td>Random Forest</td>\n",
       "      <td>0.9655</td>\n",
       "      <td>0.6016</td>\n",
       "    </tr>\n",
       "    <tr>\n",
       "      <th>5</th>\n",
       "      <td>Decision Tree</td>\n",
       "      <td>0.9913</td>\n",
       "      <td>0.5727</td>\n",
       "    </tr>\n",
       "  </tbody>\n",
       "</table>\n",
       "</div>"
      ],
      "text/plain": [
       "                 Model  Train F1  Test F1\n",
       "0  K-Nearest Neighbors    0.7133   0.5314\n",
       "1          Gaussian NB    0.6167   0.6227\n",
       "2       Support Vector    0.8956   0.5363\n",
       "3             AdaBoost    0.6580   0.6462\n",
       "4        Random Forest    0.9655   0.6016\n",
       "5        Decision Tree    0.9913   0.5727"
      ]
     },
     "execution_count": 208,
     "metadata": {},
     "output_type": "execute_result"
    }
   ],
   "source": [
    "# Create a summary of the Train and Test data for Discount\n",
    "discount_classifier = ['K-Nearest Neighbors',\n",
    "                       'Gaussian NB',\n",
    "                       'Support Vector',\n",
    "                       'AdaBoost',\n",
    "                       'Random Forest',\n",
    "                       'Decision Tree']\n",
    "\n",
    "discount_data_train = [knn_discount_score_train, gauss_discount_score_train, svc_discount_score_train,\n",
    "                       ada_discount_score_train, rfc_discount_score_train, dtc_discount_score_train]\n",
    "discount_data_test = [knn_discount_score_test, gauss_discount_score_test, svc_discount_score_test,\n",
    "                      ada_discount_score_test, rfc_discount_score_test, dtc_discount_score_test]\n",
    "\n",
    "# Define the Discount dataframe\n",
    "discount_summary = pd.DataFrame({'Model': discount_classifier,\n",
    "                                 'Train F1': discount_data_train,\n",
    "                                 'Test F1': discount_data_test})\n",
    "\n",
    "# Print the Discount dataframe\n",
    "discount_summary"
   ]
  },
  {
   "cell_type": "code",
   "execution_count": 209,
   "metadata": {},
   "outputs": [
    {
     "data": {
      "image/png": "[encoded data removed]",
      "text/plain": [
       "<matplotlib.figure.Figure at 0x7fd135f7fe10>"
      ]
     },
     "metadata": {
      "needs_background": "light"
     },
     "output_type": "display_data"
    }
   ],
   "source": [
    "# This code plots the graph for the Discount classifier model values for  K-Nearest Neighbors, Gaussian NB,\n",
    "# Support Vector, AdaBoost, Random Forest, and Decision Tree\n",
    "\n",
    "x2_pos = np.arange(len(discount_classifier))\n",
    "width = 0.25\n",
    "\n",
    "fig, ax2 = plt.subplots()\n",
    "discount_train_rects = ax2.bar(x2_pos - width/2, discount_data_train, width, color='#CC99FF', label='Train')\n",
    "discount_test_rects = ax2.bar(x2_pos + width/2, discount_data_test, width, color='#FF9933', label='Test')\n",
    "\n",
    "ax2.set_title('Discount Train and Test results for K-Nearest Neighbors, Gaussian NB, Support Vector, AdaBoost, Random Forest, and Decision Tree', fontsize=15)\n",
    "ax2.set_ylabel('Score', fontsize=16)\n",
    "ax2.set_xlabel('Classifier', fontsize=16)\n",
    "\n",
    "ax2.set_xticks(x2_pos)\n",
    "ax2.set_xticklabels(discount_classifier)\n",
    "fig.set_size_inches(16.0, 12.0)\n",
    "plt.rcParams.update({'font.size': 12})\n",
    "ax2.legend()\n",
    "\n",
    "# Function to generate labels on top of the bars\n",
    "def gen_label(rects):\n",
    "    \"\"\"Attach a text label above each bar in *rects*, displaying its height.\"\"\"\n",
    "    for rect in rects:\n",
    "        height = rect.get_height()\n",
    "        ax2.annotate('{}'.format(height),\n",
    "                    xy=(rect.get_x() + rect.get_width() / 2, height),\n",
    "                    xytext=(0, 3),  # 3 points vertical offset\n",
    "                    textcoords=\"offset points\",\n",
    "                    ha='center', va='bottom')\n",
    "\n",
    "# Generate the labels\n",
    "gen_label(discount_train_rects)\n",
    "gen_label(discount_test_rects)\n",
    "\n",
    "fig.tight_layout()\n",
    "\n",
    "plt.show()"
   ]
  },
  {
   "cell_type": "code",
   "execution_count": 210,
   "metadata": {},
   "outputs": [],
   "source": [
    "# Algorithm that predicts the preferred offer for the customer\n",
    "# Different customers will product different results\n",
    "customer = X_test[1:2]\n",
    "\n",
    "# Using the predictions from the three classification models AdaBoost, Random Forest,\n",
    "# and Decision Tree.  The predict() function is what drives this algorithm\n",
    "ada_bogo_predict = ada_bogo.predict(customer.values)[0] \n",
    "ada_discount_predict = ada_discount.predict(customer.values)[0]\n",
    "\n",
    "dtc_bogo_predict = dtc_bogo.predict(customer.values)[0] \n",
    "dtc_discount_predict = dtc_discount.predict(customer.values)[0]\n",
    "\n",
    "rfc_bogo_predict = rfc_bogo.predict(customer.values)[0] \n",
    "rfc_discount_predict = rfc_discount.predict(customer.values)[0]\n",
    "\n",
    "\n",
    "# Define the function and its properties\n",
    "def best_offer(customer, offer, bogo_predict, discount_predict):\n",
    "\n",
    "    if (bogo_predict == 0 & discount_predict == 0):\n",
    "        print('Best offer:  None')\n",
    "        \n",
    "    if (offer == 'bogo'):\n",
    "        if(bogo_predict == 0):\n",
    "            if(discount_predict == 1):\n",
    "                print('Best offer:  Preferred Discount')           \n",
    "        else:\n",
    "                print('Best offer:  BOGO')\n",
    "    if (offer == 'discount'):\n",
    "        if(discount_predict == 0):\n",
    "            if(bogo_predict == 1):\n",
    "                print('Best offer:  Preferred BOGO')           \n",
    "        else:\n",
    "                print('Best offer:  Discount')"
   ]
  },
  {
   "cell_type": "code",
   "execution_count": 211,
   "metadata": {},
   "outputs": [
    {
     "name": "stdout",
     "output_type": "stream",
     "text": [
      "Best offer:  BOGO\n"
     ]
    }
   ],
   "source": [
    "# Customer wants BOGO; best offer gives what is predicted using AdaBoost\n",
    "best_offer(customer, 'bogo', ada_bogo_predict, ada_discount_predict)"
   ]
  },
  {
   "cell_type": "code",
   "execution_count": 212,
   "metadata": {},
   "outputs": [
    {
     "name": "stdout",
     "output_type": "stream",
     "text": [
      "Best offer:  Discount\n"
     ]
    }
   ],
   "source": [
    "# Customer wants Discount; best offer gives what is predicted using AdaBoost\n",
    "best_offer(customer, 'discount', ada_bogo_predict, ada_discount_predict)"
   ]
  },
  {
   "cell_type": "code",
   "execution_count": 213,
   "metadata": {},
   "outputs": [
    {
     "name": "stdout",
     "output_type": "stream",
     "text": [
      "Best offer:  None\n",
      "Best offer:  Preferred Discount\n"
     ]
    }
   ],
   "source": [
    "# Customer wants BOGO; best offer gives different results (this is because\n",
    "# DTC scored lower in BOGO than Discount)\n",
    "best_offer(customer, 'bogo', dtc_bogo_predict, dtc_discount_predict)"
   ]
  },
  {
   "cell_type": "code",
   "execution_count": 214,
   "metadata": {},
   "outputs": [
    {
     "name": "stdout",
     "output_type": "stream",
     "text": [
      "Best offer:  None\n",
      "Best offer:  Discount\n"
     ]
    }
   ],
   "source": [
    "# Customer wants Discount; best offer gives what is predicted using DTC\n",
    "best_offer(customer, 'discount', dtc_bogo_predict, dtc_discount_predict)"
   ]
  },
  {
   "cell_type": "code",
   "execution_count": 215,
   "metadata": {},
   "outputs": [
    {
     "name": "stdout",
     "output_type": "stream",
     "text": [
      "Best offer:  BOGO\n"
     ]
    }
   ],
   "source": [
    "# Customer wants Discount; best offer gives what is predicted using RFC\n",
    "best_offer(customer, 'bogo', rfc_bogo_predict, rfc_discount_predict)"
   ]
  },
  {
   "cell_type": "code",
   "execution_count": 216,
   "metadata": {},
   "outputs": [
    {
     "name": "stdout",
     "output_type": "stream",
     "text": [
      "Best offer:  Preferred BOGO\n"
     ]
    }
   ],
   "source": [
    "# Customer wants discount; best offer gives different results (this is because\n",
    "# RFC actually scored lower in discount than BOGO:  0.6016 for discount,\n",
    "# versus 0.6062 for BOGO... the BOGO was slightly higher by 0.0046!)\n",
    "best_offer(customer, 'discount', rfc_bogo_predict, rfc_discount_predict)"
   ]
  },
  {
   "cell_type": "markdown",
   "metadata": {},
   "source": [
    "<H2>Summary and Conclusions</H2>\n",
    "\n",
    "<P>In the profile dataset, the majority of Starbucks customers were male and had a higher income.  This indicates that males were more likely to respond to an offer (BOGO or Discount) than female customers.  The original profile dataset and cleaned profile dataset showed that the average age for male customers was 54 and the income was 65K.</P>\n",
    "\n",
    "<P>For both male and female customers, BOGO was popular; however, Discount was more popular for male customers than female customers.</P>\n",
    "\n",
    "<P>When using the transcript dataset to perform our modeling between BOGO and Discount, a variety of classifiers were used to determine which one produced the best score.  The K-Nearest Neighbors (KNN) Classifier is often thought of as a de-facto standard; however, in evaluating the model, we discovered that is not always the case.</P>\n",
    "\n",
    "<P>If we look at the summary of the Train and Test data for BOGO:</P>"
   ]
  },
  {
   "cell_type": "code",
   "execution_count": 217,
   "metadata": {},
   "outputs": [
    {
     "data": {
      "text/html": [
       "<div>\n",
       "<style scoped>\n",
       "    .dataframe tbody tr th:only-of-type {\n",
       "        vertical-align: middle;\n",
       "    }\n",
       "\n",
       "    .dataframe tbody tr th {\n",
       "        vertical-align: top;\n",
       "    }\n",
       "\n",
       "    .dataframe thead th {\n",
       "        text-align: right;\n",
       "    }\n",
       "</style>\n",
       "<table border=\"1\" class=\"dataframe\">\n",
       "  <thead>\n",
       "    <tr style=\"text-align: right;\">\n",
       "      <th></th>\n",
       "      <th>Model</th>\n",
       "      <th>Train F1</th>\n",
       "      <th>Test F1</th>\n",
       "    </tr>\n",
       "  </thead>\n",
       "  <tbody>\n",
       "    <tr>\n",
       "      <th>0</th>\n",
       "      <td>K-Nearest Neighbors</td>\n",
       "      <td>0.5919</td>\n",
       "      <td>0.5490</td>\n",
       "    </tr>\n",
       "    <tr>\n",
       "      <th>1</th>\n",
       "      <td>Gaussian NB</td>\n",
       "      <td>0.5973</td>\n",
       "      <td>0.6057</td>\n",
       "    </tr>\n",
       "    <tr>\n",
       "      <th>2</th>\n",
       "      <td>Support Vector</td>\n",
       "      <td>0.6301</td>\n",
       "      <td>0.5511</td>\n",
       "    </tr>\n",
       "    <tr>\n",
       "      <th>3</th>\n",
       "      <td>AdaBoost</td>\n",
       "      <td>0.6366</td>\n",
       "      <td>0.6394</td>\n",
       "    </tr>\n",
       "    <tr>\n",
       "      <th>4</th>\n",
       "      <td>Random Forest</td>\n",
       "      <td>0.6582</td>\n",
       "      <td>0.6062</td>\n",
       "    </tr>\n",
       "    <tr>\n",
       "      <th>5</th>\n",
       "      <td>Decision Tree</td>\n",
       "      <td>0.6627</td>\n",
       "      <td>0.5695</td>\n",
       "    </tr>\n",
       "  </tbody>\n",
       "</table>\n",
       "</div>"
      ],
      "text/plain": [
       "                 Model  Train F1  Test F1\n",
       "0  K-Nearest Neighbors    0.5919   0.5490\n",
       "1          Gaussian NB    0.5973   0.6057\n",
       "2       Support Vector    0.6301   0.5511\n",
       "3             AdaBoost    0.6366   0.6394\n",
       "4        Random Forest    0.6582   0.6062\n",
       "5        Decision Tree    0.6627   0.5695"
      ]
     },
     "execution_count": 217,
     "metadata": {},
     "output_type": "execute_result"
    }
   ],
   "source": [
    "bogo_summary"
   ]
  },
  {
   "cell_type": "markdown",
   "metadata": {},
   "source": [
    "<P>KNN produced the lowest scores for both categories.  But in determining which of the models would be best used to predict if a customer would respond to a BOGO offer, Decision Tree was highest in Train (0.6627) and AdaBoost was the highest score in Test (0.6394).</P>\n",
    "\n",
    "<P>For the Train and Test scores in Discount, we have the following summary:</P>"
   ]
  },
  {
   "cell_type": "code",
   "execution_count": 218,
   "metadata": {},
   "outputs": [
    {
     "data": {
      "text/html": [
       "<div>\n",
       "<style scoped>\n",
       "    .dataframe tbody tr th:only-of-type {\n",
       "        vertical-align: middle;\n",
       "    }\n",
       "\n",
       "    .dataframe tbody tr th {\n",
       "        vertical-align: top;\n",
       "    }\n",
       "\n",
       "    .dataframe thead th {\n",
       "        text-align: right;\n",
       "    }\n",
       "</style>\n",
       "<table border=\"1\" class=\"dataframe\">\n",
       "  <thead>\n",
       "    <tr style=\"text-align: right;\">\n",
       "      <th></th>\n",
       "      <th>Model</th>\n",
       "      <th>Train F1</th>\n",
       "      <th>Test F1</th>\n",
       "    </tr>\n",
       "  </thead>\n",
       "  <tbody>\n",
       "    <tr>\n",
       "      <th>0</th>\n",
       "      <td>K-Nearest Neighbors</td>\n",
       "      <td>0.7133</td>\n",
       "      <td>0.5314</td>\n",
       "    </tr>\n",
       "    <tr>\n",
       "      <th>1</th>\n",
       "      <td>Gaussian NB</td>\n",
       "      <td>0.6167</td>\n",
       "      <td>0.6227</td>\n",
       "    </tr>\n",
       "    <tr>\n",
       "      <th>2</th>\n",
       "      <td>Support Vector</td>\n",
       "      <td>0.8956</td>\n",
       "      <td>0.5363</td>\n",
       "    </tr>\n",
       "    <tr>\n",
       "      <th>3</th>\n",
       "      <td>AdaBoost</td>\n",
       "      <td>0.6580</td>\n",
       "      <td>0.6462</td>\n",
       "    </tr>\n",
       "    <tr>\n",
       "      <th>4</th>\n",
       "      <td>Random Forest</td>\n",
       "      <td>0.9655</td>\n",
       "      <td>0.6016</td>\n",
       "    </tr>\n",
       "    <tr>\n",
       "      <th>5</th>\n",
       "      <td>Decision Tree</td>\n",
       "      <td>0.9913</td>\n",
       "      <td>0.5727</td>\n",
       "    </tr>\n",
       "  </tbody>\n",
       "</table>\n",
       "</div>"
      ],
      "text/plain": [
       "                 Model  Train F1  Test F1\n",
       "0  K-Nearest Neighbors    0.7133   0.5314\n",
       "1          Gaussian NB    0.6167   0.6227\n",
       "2       Support Vector    0.8956   0.5363\n",
       "3             AdaBoost    0.6580   0.6462\n",
       "4        Random Forest    0.9655   0.6016\n",
       "5        Decision Tree    0.9913   0.5727"
      ]
     },
     "execution_count": 218,
     "metadata": {},
     "output_type": "execute_result"
    }
   ],
   "source": [
    "discount_summary"
   ]
  },
  {
   "cell_type": "markdown",
   "metadata": {},
   "source": [
    "<P>KNN produced an even lower score for Test, but it scored higher in Train (or at least higher than it did in BOGO, but here it was higher than Gaussian NB).  Decision Tree again scored the highest in the Train model (0.9913), and AdaBoost scored the highest in Test (0.6462).  But, the results for Decision Tree between Train and Test were very different, and it affected the results in the prediction algorithm when evaluating the classifiers.</P>"
   ]
  },
  {
   "cell_type": "markdown",
   "metadata": {},
   "source": [
    "<P>In evaluating BOGO and Discount, Decision Tree is the best classifier to use as a prediction engine for Training data and AdaBoost is the best classifier for Test data.</P>"
   ]
  },
  {
   "cell_type": "markdown",
   "metadata": {},
   "source": [
    "<P>When using the prediction algorithm to determine what was the best offer for the customer, we used a Test customer and three different classifiers for the Test:</P>\n",
    "\n",
    "<UL>\n",
    "    <LI>AdaBoost</LI>\n",
    "    <LI>Random Forest</LI>\n",
    "    <LI>Decision Tree</LI>\n",
    "</UL>\n",
    "\n",
    "<P>Based on the results, it suggests the Test customer is male.</P>\n",
    "\n",
    "<P>AdaBoost predictions were straightforward.  If the customer wanted BOGO, the prediction was BOGO.  Similar results for Discount.  The scores for AdaBoost in both BOGO and Discount were very similar.</P>\n",
    "\n",
    "<P>For BOGO, Decision Tree Classifier was different:  It predicted that the customer could either take the Preferred Discount or None.  This is because Decision Tree had a lower score with BOGO (0.5695) than Discount (0.5727).  So Discount works better for Decision Tree Classifier.</P>\n",
    "\n",
    "<P>Random Forest Classifier was interesting when the customer wanted a Discount.  It predicted the customer would be better with Preferred BOGO, but the scores between BOGO and Discount were separated by a small margin (0.0046).  So it appears Random Forest Classifier is leaned toward BOGO.</P>"
   ]
  }
 ],
 "metadata": {
  "kernelspec": {
   "display_name": "Python 3",
   "language": "python",
   "name": "python3"
  },
  "language_info": {
   "codemirror_mode": {
    "name": "ipython",
    "version": 3
   },
   "file_extension": ".py",
   "mimetype": "text/x-python",
   "name": "python",
   "nbconvert_exporter": "python",
   "pygments_lexer": "ipython3",
   "version": "3.6.3"
  }
 },
 "nbformat": 4,
 "nbformat_minor": 2
}
